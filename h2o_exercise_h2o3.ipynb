{
 "cells": [
  {
   "cell_type": "markdown",
   "metadata": {},
   "source": [
    "## H20 Interview Solution\n",
    "\n",
    "### Great Britain Road Safety Dataset\n",
    "\n",
    "These files provide detailed road safety data about the circumstances of personal injury road accidents in Great Britain from 1979, the types of vehicles involved and the consequential casualties. The statistics relate only to personal injury accidents on public roads that are reported to the police, and subsequently recorded, using the STATS19 accident reporting form.\n",
    "\n",
    "The dictionary of the colums are defined here:\n",
    "https://www.dropbox.com/s/239wnyobolbt0im/Road-Accident-Safety-Data-Guide.xls?dl=0\n",
    "\n",
    "This analysis is for the Data of 2019\n",
    "\n",
    "- We are first going to take a look at the data and understand the data\n",
    "- We will do some feature extraction\n",
    "- We will look for class imbalances\n",
    "- Build a classifier in h2o \n",
    "- Use open source h203 to do most of the work\n",
    "- The Data engineering has been done using Pandas in the other notebook\n",
    "- We will use the Pickle dataset from the other notebook to read the data and build the models\n",
    "- The experimentation will be done on almost all H2o algorithms\n",
    "\n",
    "Target Variable is \"Did Police Attend\"\n",
    "\n",
    "        - 1 - Yes\n",
    "        - 2 - No\n"
   ]
  },
  {
   "cell_type": "code",
   "execution_count": null,
   "metadata": {},
   "outputs": [],
   "source": [
    "import h2o\n",
    "from h2o.estimators.psvm import H2OSupportVectorMachineEstimator\n",
    "from h2o.estimators.naive_bayes import H2ONaiveBayesEstimator\n",
    "from h2o.estimators.gbm import H2OGradientBoostingEstimator\n",
    "from h2o.grid.grid_search import H2OGridSearch\n",
    "from h2o.estimators.random_forest import H2ORandomForestEstimator\n",
    "from h2o.automl import H2OAutoML\n",
    "from h2o.estimators.stackedensemble import H2OStackedEnsembleEstimator\n",
    "from h2o.grid.grid_search import H2OGridSearch\n",
    "from sklearn.metrics import precision_score, recall_score, precision_recall_curve,f1_score, fbeta_score,classification_report\n",
    "\n",
    "import pickle\n",
    "import pandas as pd\n",
    "import numpy as np"
   ]
  },
  {
   "cell_type": "code",
   "execution_count": null,
   "metadata": {},
   "outputs": [],
   "source": [
    "h2o.init()"
   ]
  },
  {
   "cell_type": "code",
   "execution_count": 323,
   "metadata": {},
   "outputs": [],
   "source": [
    "# road_safety_sel2.pkl\n",
    "accident_df = pd.read_pickle('road_safety_sel2.pkl')"
   ]
  },
  {
   "cell_type": "code",
   "execution_count": 324,
   "metadata": {},
   "outputs": [
    {
     "name": "stdout",
     "output_type": "stream",
     "text": [
      "Parse progress: |█████████████████████████████████████████████████████████| 100%\n"
     ]
    }
   ],
   "source": [
    "data = h2o.H2OFrame(accident_df)"
   ]
  },
  {
   "cell_type": "code",
   "execution_count": null,
   "metadata": {},
   "outputs": [],
   "source": [
    "data.columns"
   ]
  },
  {
   "cell_type": "code",
   "execution_count": null,
   "metadata": {},
   "outputs": [],
   "source": [
    "cols = ['Location_Easting_OSGR','Location_Northing_OSGR','Police_Force',  'Accident_Severity','Number_of_Vehicles','Number_of_Casualties', 'Day_of_Week', 'Local_Authority_(District)', \n",
    "    'Local_Authority_(Highway)','1st_Road_Class','1st_Road_Number','Road_Type', 'Speed_limit','Junction_Detail','2nd_Road_Number', \n",
    "    'Pedestrian_Crossing-Human_Control','Pedestrian_Crossing-Physical_Facilities', 'Light_Conditions','Weather_Conditions', \n",
    "    'Road_Surface_Conditions','Special_Conditions_at_Site', 'Carriageway_Hazards','Urban_or_Rural_Area','time_mins_scaled','Location_Easting_scaled','Location_Northing_scaled']"
   ]
  },
  {
   "cell_type": "code",
   "execution_count": null,
   "metadata": {},
   "outputs": [],
   "source": [
    "data['Did_Police_Officer_Attend_Scene_of_Accident']"
   ]
  },
  {
   "cell_type": "code",
   "execution_count": 325,
   "metadata": {},
   "outputs": [],
   "source": [
    "x = data.columns\n",
    "y = \"Did_Police_Officer_Attend_Scene_of_Accident\"\n",
    "x.remove(y)"
   ]
  },
  {
   "cell_type": "code",
   "execution_count": 326,
   "metadata": {},
   "outputs": [],
   "source": [
    "data[y] = data[y].asfactor()\n",
    "#test[y] = test[y].asfactor()"
   ]
  },
  {
   "cell_type": "code",
   "execution_count": 327,
   "metadata": {},
   "outputs": [],
   "source": [
    "train, test, valid = data.split_frame(ratios=[.7, .15])\n",
    "\n"
   ]
  },
  {
   "cell_type": "code",
   "execution_count": 328,
   "metadata": {},
   "outputs": [],
   "source": [
    "# Balance classes made the model worse\n",
    "gbm_baseline=H2OGradientBoostingEstimator(score_tree_interval=10,\n",
    "                                          ntrees=500,\n",
    "                                          sample_rate=0.8,\n",
    "                                          col_sample_rate=0.8,\n",
    "                                          seed=1234,\n",
    "                                          stopping_rounds=5,\n",
    "                                          stopping_metric=\"AUCPR\",\n",
    "                                          stopping_tolerance=0.001,\n",
    "                                          model_id=\"gbm_baseline_sd.hex\")"
   ]
  },
  {
   "cell_type": "code",
   "execution_count": 329,
   "metadata": {},
   "outputs": [
    {
     "name": "stdout",
     "output_type": "stream",
     "text": [
      "gbm Model Build progress: |███████████████████████████████████████████████| 100%\n"
     ]
    }
   ],
   "source": [
    "gbm_baseline.train(x=cols, y=y, training_frame=train,\n",
    "                   validation_frame=valid)"
   ]
  },
  {
   "cell_type": "code",
   "execution_count": 330,
   "metadata": {},
   "outputs": [
    {
     "name": "stdout",
     "output_type": "stream",
     "text": [
      "gbm prediction progress: |████████████████████████████████████████████████| 100%\n"
     ]
    }
   ],
   "source": [
    "y_gbm_predict=gbm_baseline.predict(test)"
   ]
  },
  {
   "cell_type": "code",
   "execution_count": 331,
   "metadata": {},
   "outputs": [
    {
     "name": "stdout",
     "output_type": "stream",
     "text": [
      "              precision    recall  f1-score   support\n",
      "\n",
      "           1       0.90      0.70      0.78     17923\n",
      "           2       0.32      0.64      0.43      3998\n",
      "\n",
      "    accuracy                           0.69     21921\n",
      "   macro avg       0.61      0.67      0.61     21921\n",
      "weighted avg       0.79      0.69      0.72     21921\n",
      "\n"
     ]
    }
   ],
   "source": [
    "print(classification_report(y_true=test[\"Did_Police_Officer_Attend_Scene_of_Accident\"].as_data_frame().values, y_pred=y_gbm_predict[\"predict\"].as_data_frame().values))"
   ]
  },
  {
   "cell_type": "code",
   "execution_count": 332,
   "metadata": {},
   "outputs": [
    {
     "data": {
      "text/plain": [
       "0.7439370410697984"
      ]
     },
     "execution_count": 332,
     "metadata": {},
     "output_type": "execute_result"
    }
   ],
   "source": [
    "gbm_baseline.auc(valid=True)"
   ]
  },
  {
   "cell_type": "code",
   "execution_count": 333,
   "metadata": {},
   "outputs": [
    {
     "data": {
      "image/png": "[encoded data removed]",
      "text/plain": [
       "<Figure size 1008x720 with 1 Axes>"
      ]
     },
     "metadata": {
      "needs_background": "light"
     },
     "output_type": "display_data"
    }
   ],
   "source": [
    "gbm_baseline.varimp_plot()"
   ]
  },
  {
   "cell_type": "code",
   "execution_count": 334,
   "metadata": {},
   "outputs": [],
   "source": [
    "from h2o.estimators.random_forest import H2ORandomForestEstimator"
   ]
  },
  {
   "cell_type": "code",
   "execution_count": 335,
   "metadata": {},
   "outputs": [],
   "source": [
    "rf_v1 = H2ORandomForestEstimator(\n",
    "    model_id=\"rf_covType_v1\",\n",
    "    ntrees=100,\n",
    "    stopping_rounds=2,\n",
    "    score_each_iteration=True,\n",
    "    seed=1234,balance_classes = True)\n"
   ]
  },
  {
   "cell_type": "code",
   "execution_count": 336,
   "metadata": {},
   "outputs": [
    {
     "name": "stdout",
     "output_type": "stream",
     "text": [
      "drf Model Build progress: |███████████████████████████████████████████████| 100%\n"
     ]
    }
   ],
   "source": [
    "rf_v1.train(x=cols, y=y, training_frame=train,\n",
    "                   validation_frame=valid)"
   ]
  },
  {
   "cell_type": "code",
   "execution_count": 337,
   "metadata": {},
   "outputs": [
    {
     "name": "stdout",
     "output_type": "stream",
     "text": [
      "drf prediction progress: |████████████████████████████████████████████████| 100%\n"
     ]
    }
   ],
   "source": [
    "y_pred = rf_v1.predict(test)"
   ]
  },
  {
   "cell_type": "code",
   "execution_count": 338,
   "metadata": {
    "scrolled": true
   },
   "outputs": [],
   "source": [
    "from sklearn.metrics import accuracy_score, confusion_matrix\n",
    "conf_mat = confusion_matrix(y_true=test[\"Did_Police_Officer_Attend_Scene_of_Accident\"].as_data_frame().values, y_pred=y_pred[\"predict\"].as_data_frame().values)"
   ]
  },
  {
   "cell_type": "code",
   "execution_count": 339,
   "metadata": {},
   "outputs": [
    {
     "name": "stdout",
     "output_type": "stream",
     "text": [
      "              precision    recall  f1-score   support\n",
      "\n",
      "           1       0.90      0.64      0.75     17923\n",
      "           2       0.30      0.69      0.42      3998\n",
      "\n",
      "    accuracy                           0.65     21921\n",
      "   macro avg       0.60      0.66      0.58     21921\n",
      "weighted avg       0.79      0.65      0.69     21921\n",
      "\n"
     ]
    }
   ],
   "source": [
    "from sklearn.metrics import precision_score, recall_score, precision_recall_curve,f1_score, fbeta_score,classification_report\n",
    "print(classification_report(y_true=test[\"Did_Police_Officer_Attend_Scene_of_Accident\"].as_data_frame().values, y_pred=y_pred[\"predict\"].as_data_frame().values))"
   ]
  },
  {
   "cell_type": "code",
   "execution_count": 340,
   "metadata": {},
   "outputs": [
    {
     "data": {
      "image/png": "[encoded data removed]",
      "text/plain": [
       "<Figure size 1008x720 with 1 Axes>"
      ]
     },
     "metadata": {
      "needs_background": "light"
     },
     "output_type": "display_data"
    }
   ],
   "source": [
    "rf_v1.varimp_plot()"
   ]
  },
  {
   "cell_type": "code",
   "execution_count": 341,
   "metadata": {},
   "outputs": [
    {
     "data": {
      "text/plain": [
       "0.7328487083959367"
      ]
     },
     "execution_count": 341,
     "metadata": {},
     "output_type": "execute_result"
    }
   ],
   "source": [
    "rf_v1.auc(valid=True)"
   ]
  },
  {
   "cell_type": "code",
   "execution_count": null,
   "metadata": {},
   "outputs": [],
   "source": [
    "\n",
    "aml = H2OAutoML(max_models=20, seed=1, balance_classes = True)\n",
    "aml.train(x=cols, y=y, training_frame=train)"
   ]
  },
  {
   "cell_type": "code",
   "execution_count": null,
   "metadata": {},
   "outputs": [],
   "source": [
    "aml.leaderboard"
   ]
  },
  {
   "cell_type": "code",
   "execution_count": null,
   "metadata": {},
   "outputs": [],
   "source": [
    "y_aml_test = aml.leader.predict(test)"
   ]
  },
  {
   "cell_type": "code",
   "execution_count": null,
   "metadata": {},
   "outputs": [],
   "source": [
    "print( classification_report(y_true=test[\"Did_Police_Officer_Attend_Scene_of_Accident\"].as_data_frame().values, y_pred=y_aml_test[\"predict\"].as_data_frame().values))"
   ]
  },
  {
   "cell_type": "code",
   "execution_count": null,
   "metadata": {},
   "outputs": [],
   "source": [
    "aml.leader.coef"
   ]
  },
  {
   "cell_type": "code",
   "execution_count": null,
   "metadata": {},
   "outputs": [],
   "source": [
    "# Get model ids for all models in the AutoML Leaderboard\n",
    "model_ids = list(aml.leaderboard['model_id'].as_data_frame().iloc[:,0])\n",
    "# Get the \"All Models\" Stacked Ensemble model\n",
    "se = h2o.get_model([mid for mid in model_ids if \"StackedEnsemble_AllModels\" in mid][0])\n",
    "# Get the Stacked Ensemble metalearner model\n",
    "metalearner = h2o.get_model(se.metalearner()['name'])"
   ]
  },
  {
   "cell_type": "code",
   "execution_count": null,
   "metadata": {},
   "outputs": [],
   "source": [
    "metalearner.coef_norm()"
   ]
  },
  {
   "cell_type": "code",
   "execution_count": 342,
   "metadata": {},
   "outputs": [
    {
     "data": {
      "image/png": "[encoded data removed]",
      "text/plain": [
       "<Figure size 1008x720 with 1 Axes>"
      ]
     },
     "metadata": {
      "needs_background": "light"
     },
     "output_type": "display_data"
    }
   ],
   "source": [
    "%matplotlib inline\n",
    "metalearner.std_coef_plot()"
   ]
  },
  {
   "cell_type": "code",
   "execution_count": 343,
   "metadata": {},
   "outputs": [],
   "source": [
    "param = {\n",
    "      \"ntrees\" : 100\n",
    "    , \"max_depth\" : 10\n",
    "    , \"learn_rate\" : 0.02\n",
    "    , \"sample_rate\" : 0.7\n",
    "    , \"col_sample_rate_per_tree\" : 0.9\n",
    "    , \"min_rows\" : 5\n",
    "    , \"seed\": 4241\n",
    "    , \"score_tree_interval\": 100\n",
    "    \n",
    "}\n",
    "from h2o.estimators import H2OXGBoostEstimator\n",
    "model = H2OXGBoostEstimator(**param)"
   ]
  },
  {
   "cell_type": "code",
   "execution_count": 344,
   "metadata": {},
   "outputs": [
    {
     "name": "stdout",
     "output_type": "stream",
     "text": [
      "xgboost Model Build progress: |███████████████████████████████████████████| 100%\n"
     ]
    }
   ],
   "source": [
    "model.train(x=cols, y=y, training_frame=train,validation_frame=valid)"
   ]
  },
  {
   "cell_type": "code",
   "execution_count": 345,
   "metadata": {},
   "outputs": [
    {
     "name": "stdout",
     "output_type": "stream",
     "text": [
      "xgboost prediction progress: |████████████████████████████████████████████| 100%\n"
     ]
    }
   ],
   "source": [
    "y_xgb_test = model.predict(test)"
   ]
  },
  {
   "cell_type": "code",
   "execution_count": 346,
   "metadata": {},
   "outputs": [
    {
     "name": "stdout",
     "output_type": "stream",
     "text": [
      "              precision    recall  f1-score   support\n",
      "\n",
      "           1       0.89      0.74      0.81     17923\n",
      "           2       0.34      0.60      0.43      3998\n",
      "\n",
      "    accuracy                           0.71     21921\n",
      "   macro avg       0.61      0.67      0.62     21921\n",
      "weighted avg       0.79      0.71      0.74     21921\n",
      "\n"
     ]
    }
   ],
   "source": [
    "print( classification_report(y_true=test[\"Did_Police_Officer_Attend_Scene_of_Accident\"].as_data_frame().values, y_pred=y_xgb_test[\"predict\"].as_data_frame().values))"
   ]
  },
  {
   "cell_type": "code",
   "execution_count": 347,
   "metadata": {},
   "outputs": [
    {
     "data": {
      "image/png": "[encoded data removed]",
      "text/plain": [
       "<Figure size 1008x720 with 1 Axes>"
      ]
     },
     "metadata": {
      "needs_background": "light"
     },
     "output_type": "display_data"
    }
   ],
   "source": [
    "model.varimp_plot()"
   ]
  },
  {
   "cell_type": "code",
   "execution_count": 350,
   "metadata": {},
   "outputs": [
    {
     "data": {
      "text/plain": [
       "[[0.26230932312247196, 0.44566957140316554]]"
      ]
     },
     "execution_count": 350,
     "metadata": {},
     "output_type": "execute_result"
    }
   ],
   "source": [
    "model.F1(valid=True)"
   ]
  },
  {
   "cell_type": "code",
   "execution_count": 351,
   "metadata": {},
   "outputs": [
    {
     "data": {
      "text/plain": [
       "0.7469247538566661"
      ]
     },
     "execution_count": 351,
     "metadata": {},
     "output_type": "execute_result"
    }
   ],
   "source": [
    "model.auc(valid=True)"
   ]
  },
  {
   "cell_type": "code",
   "execution_count": 370,
   "metadata": {},
   "outputs": [
    {
     "name": "stdout",
     "output_type": "stream",
     "text": [
      "gbm Model Build progress: |███████████████████████████████████████████████| 100%\n",
      "drf Model Build progress: |███████████████████████████████████████████████| 100%\n",
      "stackedensemble Model Build progress: |███████████████████████████████████| 100%\n"
     ]
    }
   ],
   "source": [
    "nfolds = 5\n",
    "\n",
    "# There are a few ways to assemble a list of models to stack together:\n",
    "# 1. Train individual models and put them in a list\n",
    "# 2. Train a grid of models\n",
    "# 3. Train several grids of models\n",
    "# Note: All base models must have the same cross-validation folds and\n",
    "# the cross-validated predicted values must be kept.\n",
    "\n",
    "\n",
    "# 1. Generate a 2-model ensemble (GBM + RF)\n",
    "\n",
    "# Train and cross-validate a GBM\n",
    "my_gbm = H2OGradientBoostingEstimator(distribution=\"bernoulli\",\n",
    "                                      ntrees=10,\n",
    "                                      max_depth=3,\n",
    "                                      min_rows=2,\n",
    "                                      learn_rate=0.2,\n",
    "                                      nfolds=nfolds,\n",
    "                                      fold_assignment=\"Modulo\",\n",
    "                                      keep_cross_validation_predictions=True,\n",
    "                                      seed=1)\n",
    "my_gbm.train(x=cols, y=y, training_frame=train,validation_frame=valid)\n",
    "\n",
    "\n",
    "# Train and cross-validate a RF\n",
    "my_rf = H2ORandomForestEstimator(ntrees=50,\n",
    "                                 nfolds=nfolds,\n",
    "                                 fold_assignment=\"Modulo\",\n",
    "                                 keep_cross_validation_predictions=True,\n",
    "                                 seed=1)\n",
    "my_rf.train(x=cols, y=y, training_frame=train,validation_frame=valid)\n",
    "\n",
    "\n",
    "# Train a stacked ensemble using the GBM and GLM above\n",
    "ensemble = H2OStackedEnsembleEstimator(model_id=\"my_ensemble_binomial2\",\n",
    "                                       base_models=[my_gbm, my_rf])\n",
    "ensemble.train(x=cols, y=y, training_frame=train, validation_frame=valid)"
   ]
  },
  {
   "cell_type": "code",
   "execution_count": 371,
   "metadata": {},
   "outputs": [
    {
     "name": "stdout",
     "output_type": "stream",
     "text": [
      "stackedensemble prediction progress: |████████████████████████████████████| 100%\n"
     ]
    }
   ],
   "source": [
    "y_ens_predict=ensemble.predict(test)"
   ]
  },
  {
   "cell_type": "code",
   "execution_count": 372,
   "metadata": {},
   "outputs": [
    {
     "name": "stdout",
     "output_type": "stream",
     "text": [
      "              precision    recall  f1-score   support\n",
      "\n",
      "           1       0.89      0.70      0.79     17923\n",
      "           2       0.32      0.62      0.42      3998\n",
      "\n",
      "    accuracy                           0.69     21921\n",
      "   macro avg       0.61      0.66      0.60     21921\n",
      "weighted avg       0.79      0.69      0.72     21921\n",
      "\n"
     ]
    }
   ],
   "source": [
    "print( classification_report(y_true=test[\"Did_Police_Officer_Attend_Scene_of_Accident\"].as_data_frame().values, y_pred=y_ens_predict[\"predict\"].as_data_frame().values))"
   ]
  },
  {
   "cell_type": "code",
   "execution_count": 373,
   "metadata": {},
   "outputs": [
    {
     "data": {
      "text/plain": [
       "[[0.27865902137455306, 0.7025314877166728]]"
      ]
     },
     "execution_count": 373,
     "metadata": {},
     "output_type": "execute_result"
    }
   ],
   "source": [
    "ensemble.F1()"
   ]
  },
  {
   "cell_type": "code",
   "execution_count": 374,
   "metadata": {},
   "outputs": [
    {
     "data": {
      "text/plain": [
       "0.7353603706069683"
      ]
     },
     "execution_count": 374,
     "metadata": {},
     "output_type": "execute_result"
    }
   ],
   "source": [
    "ensemble.auc(valid=True)"
   ]
  },
  {
   "cell_type": "code",
   "execution_count": 375,
   "metadata": {},
   "outputs": [
    {
     "name": "stdout",
     "output_type": "stream",
     "text": [
      "gbm Grid Build progress: |████████████████████████████████████████████████| 100%\n",
      "stackedensemble Model Build progress: |███████████████████████████████████| 100%\n"
     ]
    }
   ],
   "source": [
    "# Specify GBM hyperparameters for the grid\n",
    "hyper_params = {\"learn_rate\": [0.0001, 0.01],\n",
    "                \"max_depth\": [3, 4, 5, 6, 9],\n",
    "                \"sample_rate\": [0.7, 0.8, 0.9, 1.0],\n",
    "                \"col_sample_rate\": [0.2, 0.3, 0.4, 0.5, 0.6, 0.7, 0.8]}\n",
    "search_criteria = {\"strategy\": \"RandomDiscrete\", \"max_models\": 3, \"seed\": 1}\n",
    "\n",
    "# Train the grid\n",
    "grid = H2OGridSearch(model=H2OGradientBoostingEstimator(ntrees=10,\n",
    "                                                        seed=1,\n",
    "                                                        nfolds=nfolds,\n",
    "                                                        fold_assignment=\"Modulo\",\n",
    "                                                        keep_cross_validation_predictions=True),\n",
    "                     hyper_params=hyper_params,\n",
    "                     search_criteria=search_criteria,\n",
    "                     grid_id=\"gbm_grid_binomial3\")\n",
    "grid.train(x=cols, y=y, training_frame=train, validation_frame=valid)\n",
    "\n",
    "# Train a stacked ensemble using the GBM grid\n",
    "ensemble = H2OStackedEnsembleEstimator(model_id=\"my_ensemble_gbm_grid_binomial3\",\n",
    "                                       base_models=grid.model_ids)\n",
    "ensemble.train(x=cols, y=y, training_frame=train,validation_frame=valid)"
   ]
  },
  {
   "cell_type": "code",
   "execution_count": 376,
   "metadata": {},
   "outputs": [
    {
     "name": "stdout",
     "output_type": "stream",
     "text": [
      "stackedensemble prediction progress: |████████████████████████████████████| 100%\n"
     ]
    }
   ],
   "source": [
    "y_ens_predict2=ensemble.predict(test)"
   ]
  },
  {
   "cell_type": "code",
   "execution_count": 377,
   "metadata": {},
   "outputs": [
    {
     "name": "stdout",
     "output_type": "stream",
     "text": [
      "              precision    recall  f1-score   support\n",
      "\n",
      "           1       0.89      0.64      0.75     17923\n",
      "           2       0.29      0.65      0.40      3998\n",
      "\n",
      "    accuracy                           0.64     21921\n",
      "   macro avg       0.59      0.64      0.57     21921\n",
      "weighted avg       0.78      0.64      0.68     21921\n",
      "\n"
     ]
    }
   ],
   "source": [
    "print( classification_report(y_true=test[\"Did_Police_Officer_Attend_Scene_of_Accident\"].as_data_frame().values, y_pred=y_ens_predict2[\"predict\"].as_data_frame().values))"
   ]
  },
  {
   "cell_type": "code",
   "execution_count": 378,
   "metadata": {},
   "outputs": [
    {
     "name": "stdout",
     "output_type": "stream",
     "text": [
      "\n",
      "ModelMetricsBinomialGLM: stackedensemble\n",
      "** Reported on test data. **\n",
      "\n",
      "MSE: 0.13789767936189604\n",
      "RMSE: 0.3713457679331973\n",
      "LogLoss: 0.43784601861232975\n",
      "Null degrees of freedom: 21920\n",
      "Residual degrees of freedom: 21916\n",
      "Null deviance: 20824.448371678744\n",
      "Residual deviance: 19196.045148001762\n",
      "AIC: 19206.045148001762\n",
      "AUC: 0.6991696833184767\n",
      "pr_auc: 0.34156039427096635\n",
      "Gini: 0.39833936663695346\n",
      "\n",
      "Confusion Matrix (Act/Pred) for max f1 @ threshold = 0.1879602923184778: \n"
     ]
    },
    {
     "data": {
      "text/html": [
       "<div>\n",
       "<style scoped>\n",
       "    .dataframe tbody tr th:only-of-type {\n",
       "        vertical-align: middle;\n",
       "    }\n",
       "\n",
       "    .dataframe tbody tr th {\n",
       "        vertical-align: top;\n",
       "    }\n",
       "\n",
       "    .dataframe thead th {\n",
       "        text-align: right;\n",
       "    }\n",
       "</style>\n",
       "<table border=\"1\" class=\"dataframe\">\n",
       "  <thead>\n",
       "    <tr style=\"text-align: right;\">\n",
       "      <th></th>\n",
       "      <th></th>\n",
       "      <th>1</th>\n",
       "      <th>2</th>\n",
       "      <th>Error</th>\n",
       "      <th>Rate</th>\n",
       "    </tr>\n",
       "  </thead>\n",
       "  <tbody>\n",
       "    <tr>\n",
       "      <th>0</th>\n",
       "      <td>1</td>\n",
       "      <td>11512.0</td>\n",
       "      <td>6411.0</td>\n",
       "      <td>0.3577</td>\n",
       "      <td>(6411.0/17923.0)</td>\n",
       "    </tr>\n",
       "    <tr>\n",
       "      <th>1</th>\n",
       "      <td>2</td>\n",
       "      <td>1413.0</td>\n",
       "      <td>2585.0</td>\n",
       "      <td>0.3534</td>\n",
       "      <td>(1413.0/3998.0)</td>\n",
       "    </tr>\n",
       "    <tr>\n",
       "      <th>2</th>\n",
       "      <td>Total</td>\n",
       "      <td>12925.0</td>\n",
       "      <td>8996.0</td>\n",
       "      <td>0.3569</td>\n",
       "      <td>(7824.0/21921.0)</td>\n",
       "    </tr>\n",
       "  </tbody>\n",
       "</table>\n",
       "</div>"
      ],
      "text/plain": [
       "                1       2   Error               Rate\n",
       "0      1  11512.0  6411.0  0.3577   (6411.0/17923.0)\n",
       "1      2   1413.0  2585.0  0.3534    (1413.0/3998.0)\n",
       "2  Total  12925.0  8996.0  0.3569   (7824.0/21921.0)"
      ]
     },
     "metadata": {},
     "output_type": "display_data"
    },
    {
     "name": "stdout",
     "output_type": "stream",
     "text": [
      "\n",
      "Maximum Metrics: Maximum metrics at their respective thresholds\n"
     ]
    },
    {
     "data": {
      "text/html": [
       "<div>\n",
       "<style scoped>\n",
       "    .dataframe tbody tr th:only-of-type {\n",
       "        vertical-align: middle;\n",
       "    }\n",
       "\n",
       "    .dataframe tbody tr th {\n",
       "        vertical-align: top;\n",
       "    }\n",
       "\n",
       "    .dataframe thead th {\n",
       "        text-align: right;\n",
       "    }\n",
       "</style>\n",
       "<table border=\"1\" class=\"dataframe\">\n",
       "  <thead>\n",
       "    <tr style=\"text-align: right;\">\n",
       "      <th></th>\n",
       "      <th>metric</th>\n",
       "      <th>threshold</th>\n",
       "      <th>value</th>\n",
       "      <th>idx</th>\n",
       "    </tr>\n",
       "  </thead>\n",
       "  <tbody>\n",
       "    <tr>\n",
       "      <th>0</th>\n",
       "      <td>max f1</td>\n",
       "      <td>0.187960</td>\n",
       "      <td>0.397876</td>\n",
       "      <td>230.0</td>\n",
       "    </tr>\n",
       "    <tr>\n",
       "      <th>1</th>\n",
       "      <td>max f2</td>\n",
       "      <td>0.116495</td>\n",
       "      <td>0.572247</td>\n",
       "      <td>311.0</td>\n",
       "    </tr>\n",
       "    <tr>\n",
       "      <th>2</th>\n",
       "      <td>max f0point5</td>\n",
       "      <td>0.262536</td>\n",
       "      <td>0.355351</td>\n",
       "      <td>156.0</td>\n",
       "    </tr>\n",
       "    <tr>\n",
       "      <th>3</th>\n",
       "      <td>max accuracy</td>\n",
       "      <td>0.823835</td>\n",
       "      <td>0.821632</td>\n",
       "      <td>38.0</td>\n",
       "    </tr>\n",
       "    <tr>\n",
       "      <th>4</th>\n",
       "      <td>max precision</td>\n",
       "      <td>0.980575</td>\n",
       "      <td>1.000000</td>\n",
       "      <td>0.0</td>\n",
       "    </tr>\n",
       "    <tr>\n",
       "      <th>5</th>\n",
       "      <td>max recall</td>\n",
       "      <td>0.048042</td>\n",
       "      <td>1.000000</td>\n",
       "      <td>395.0</td>\n",
       "    </tr>\n",
       "    <tr>\n",
       "      <th>6</th>\n",
       "      <td>max specificity</td>\n",
       "      <td>0.980575</td>\n",
       "      <td>1.000000</td>\n",
       "      <td>0.0</td>\n",
       "    </tr>\n",
       "    <tr>\n",
       "      <th>7</th>\n",
       "      <td>max absolute_mcc</td>\n",
       "      <td>0.187960</td>\n",
       "      <td>0.226777</td>\n",
       "      <td>230.0</td>\n",
       "    </tr>\n",
       "    <tr>\n",
       "      <th>8</th>\n",
       "      <td>max min_per_class_accuracy</td>\n",
       "      <td>0.188679</td>\n",
       "      <td>0.643698</td>\n",
       "      <td>229.0</td>\n",
       "    </tr>\n",
       "    <tr>\n",
       "      <th>9</th>\n",
       "      <td>max mean_per_class_accuracy</td>\n",
       "      <td>0.187960</td>\n",
       "      <td>0.644438</td>\n",
       "      <td>230.0</td>\n",
       "    </tr>\n",
       "    <tr>\n",
       "      <th>10</th>\n",
       "      <td>max tns</td>\n",
       "      <td>0.980575</td>\n",
       "      <td>17923.000000</td>\n",
       "      <td>0.0</td>\n",
       "    </tr>\n",
       "    <tr>\n",
       "      <th>11</th>\n",
       "      <td>max fns</td>\n",
       "      <td>0.980575</td>\n",
       "      <td>3997.000000</td>\n",
       "      <td>0.0</td>\n",
       "    </tr>\n",
       "    <tr>\n",
       "      <th>12</th>\n",
       "      <td>max fps</td>\n",
       "      <td>0.042480</td>\n",
       "      <td>17923.000000</td>\n",
       "      <td>399.0</td>\n",
       "    </tr>\n",
       "    <tr>\n",
       "      <th>13</th>\n",
       "      <td>max tps</td>\n",
       "      <td>0.048042</td>\n",
       "      <td>3998.000000</td>\n",
       "      <td>395.0</td>\n",
       "    </tr>\n",
       "    <tr>\n",
       "      <th>14</th>\n",
       "      <td>max tnr</td>\n",
       "      <td>0.980575</td>\n",
       "      <td>1.000000</td>\n",
       "      <td>0.0</td>\n",
       "    </tr>\n",
       "    <tr>\n",
       "      <th>15</th>\n",
       "      <td>max fnr</td>\n",
       "      <td>0.980575</td>\n",
       "      <td>0.999750</td>\n",
       "      <td>0.0</td>\n",
       "    </tr>\n",
       "    <tr>\n",
       "      <th>16</th>\n",
       "      <td>max fpr</td>\n",
       "      <td>0.042480</td>\n",
       "      <td>1.000000</td>\n",
       "      <td>399.0</td>\n",
       "    </tr>\n",
       "    <tr>\n",
       "      <th>17</th>\n",
       "      <td>max tpr</td>\n",
       "      <td>0.048042</td>\n",
       "      <td>1.000000</td>\n",
       "      <td>395.0</td>\n",
       "    </tr>\n",
       "  </tbody>\n",
       "</table>\n",
       "</div>"
      ],
      "text/plain": [
       "                         metric  threshold         value    idx\n",
       "0                        max f1   0.187960      0.397876  230.0\n",
       "1                        max f2   0.116495      0.572247  311.0\n",
       "2                  max f0point5   0.262536      0.355351  156.0\n",
       "3                  max accuracy   0.823835      0.821632   38.0\n",
       "4                 max precision   0.980575      1.000000    0.0\n",
       "5                    max recall   0.048042      1.000000  395.0\n",
       "6               max specificity   0.980575      1.000000    0.0\n",
       "7              max absolute_mcc   0.187960      0.226777  230.0\n",
       "8    max min_per_class_accuracy   0.188679      0.643698  229.0\n",
       "9   max mean_per_class_accuracy   0.187960      0.644438  230.0\n",
       "10                      max tns   0.980575  17923.000000    0.0\n",
       "11                      max fns   0.980575   3997.000000    0.0\n",
       "12                      max fps   0.042480  17923.000000  399.0\n",
       "13                      max tps   0.048042   3998.000000  395.0\n",
       "14                      max tnr   0.980575      1.000000    0.0\n",
       "15                      max fnr   0.980575      0.999750    0.0\n",
       "16                      max fpr   0.042480      1.000000  399.0\n",
       "17                      max tpr   0.048042      1.000000  395.0"
      ]
     },
     "metadata": {},
     "output_type": "display_data"
    },
    {
     "name": "stdout",
     "output_type": "stream",
     "text": [
      "\n",
      "Gains/Lift Table: Avg response rate: 18.24 %, avg score: 18.12 %\n"
     ]
    },
    {
     "data": {
      "text/html": [
       "<div>\n",
       "<style scoped>\n",
       "    .dataframe tbody tr th:only-of-type {\n",
       "        vertical-align: middle;\n",
       "    }\n",
       "\n",
       "    .dataframe tbody tr th {\n",
       "        vertical-align: top;\n",
       "    }\n",
       "\n",
       "    .dataframe thead th {\n",
       "        text-align: right;\n",
       "    }\n",
       "</style>\n",
       "<table border=\"1\" class=\"dataframe\">\n",
       "  <thead>\n",
       "    <tr style=\"text-align: right;\">\n",
       "      <th></th>\n",
       "      <th></th>\n",
       "      <th>group</th>\n",
       "      <th>cumulative_data_fraction</th>\n",
       "      <th>lower_threshold</th>\n",
       "      <th>lift</th>\n",
       "      <th>cumulative_lift</th>\n",
       "      <th>response_rate</th>\n",
       "      <th>score</th>\n",
       "      <th>cumulative_response_rate</th>\n",
       "      <th>cumulative_score</th>\n",
       "      <th>capture_rate</th>\n",
       "      <th>cumulative_capture_rate</th>\n",
       "      <th>gain</th>\n",
       "      <th>cumulative_gain</th>\n",
       "    </tr>\n",
       "  </thead>\n",
       "  <tbody>\n",
       "    <tr>\n",
       "      <th>0</th>\n",
       "      <td></td>\n",
       "      <td>1</td>\n",
       "      <td>0.010036</td>\n",
       "      <td>0.738210</td>\n",
       "      <td>3.763326</td>\n",
       "      <td>3.763326</td>\n",
       "      <td>0.686364</td>\n",
       "      <td>0.882753</td>\n",
       "      <td>0.686364</td>\n",
       "      <td>0.882753</td>\n",
       "      <td>0.037769</td>\n",
       "      <td>0.037769</td>\n",
       "      <td>276.332598</td>\n",
       "      <td>276.332598</td>\n",
       "    </tr>\n",
       "    <tr>\n",
       "      <th>1</th>\n",
       "      <td></td>\n",
       "      <td>2</td>\n",
       "      <td>0.020163</td>\n",
       "      <td>0.335619</td>\n",
       "      <td>2.371023</td>\n",
       "      <td>3.064025</td>\n",
       "      <td>0.432432</td>\n",
       "      <td>0.500988</td>\n",
       "      <td>0.558824</td>\n",
       "      <td>0.691007</td>\n",
       "      <td>0.024012</td>\n",
       "      <td>0.061781</td>\n",
       "      <td>137.102335</td>\n",
       "      <td>206.402466</td>\n",
       "    </tr>\n",
       "    <tr>\n",
       "      <th>2</th>\n",
       "      <td></td>\n",
       "      <td>3</td>\n",
       "      <td>0.049678</td>\n",
       "      <td>0.325491</td>\n",
       "      <td>1.932182</td>\n",
       "      <td>2.391571</td>\n",
       "      <td>0.352396</td>\n",
       "      <td>0.325772</td>\n",
       "      <td>0.436180</td>\n",
       "      <td>0.474012</td>\n",
       "      <td>0.057029</td>\n",
       "      <td>0.118809</td>\n",
       "      <td>93.218247</td>\n",
       "      <td>139.157113</td>\n",
       "    </tr>\n",
       "    <tr>\n",
       "      <th>3</th>\n",
       "      <td></td>\n",
       "      <td>4</td>\n",
       "      <td>0.053009</td>\n",
       "      <td>0.322125</td>\n",
       "      <td>2.403503</td>\n",
       "      <td>2.392321</td>\n",
       "      <td>0.438356</td>\n",
       "      <td>0.322179</td>\n",
       "      <td>0.436317</td>\n",
       "      <td>0.464474</td>\n",
       "      <td>0.008004</td>\n",
       "      <td>0.126813</td>\n",
       "      <td>140.350312</td>\n",
       "      <td>139.232073</td>\n",
       "    </tr>\n",
       "    <tr>\n",
       "      <th>4</th>\n",
       "      <td></td>\n",
       "      <td>5</td>\n",
       "      <td>0.100132</td>\n",
       "      <td>0.285359</td>\n",
       "      <td>1.693199</td>\n",
       "      <td>2.063303</td>\n",
       "      <td>0.308809</td>\n",
       "      <td>0.305177</td>\n",
       "      <td>0.376310</td>\n",
       "      <td>0.389507</td>\n",
       "      <td>0.079790</td>\n",
       "      <td>0.206603</td>\n",
       "      <td>69.319873</td>\n",
       "      <td>106.330341</td>\n",
       "    </tr>\n",
       "    <tr>\n",
       "      <th>5</th>\n",
       "      <td></td>\n",
       "      <td>6</td>\n",
       "      <td>0.150084</td>\n",
       "      <td>0.278353</td>\n",
       "      <td>1.897766</td>\n",
       "      <td>2.008208</td>\n",
       "      <td>0.346119</td>\n",
       "      <td>0.283627</td>\n",
       "      <td>0.366261</td>\n",
       "      <td>0.354267</td>\n",
       "      <td>0.094797</td>\n",
       "      <td>0.301401</td>\n",
       "      <td>89.776601</td>\n",
       "      <td>100.820813</td>\n",
       "    </tr>\n",
       "    <tr>\n",
       "      <th>6</th>\n",
       "      <td></td>\n",
       "      <td>7</td>\n",
       "      <td>0.200036</td>\n",
       "      <td>0.257891</td>\n",
       "      <td>1.572292</td>\n",
       "      <td>1.899353</td>\n",
       "      <td>0.286758</td>\n",
       "      <td>0.268623</td>\n",
       "      <td>0.346408</td>\n",
       "      <td>0.332880</td>\n",
       "      <td>0.078539</td>\n",
       "      <td>0.379940</td>\n",
       "      <td>57.229163</td>\n",
       "      <td>89.935327</td>\n",
       "    </tr>\n",
       "    <tr>\n",
       "      <th>7</th>\n",
       "      <td></td>\n",
       "      <td>8</td>\n",
       "      <td>0.300214</td>\n",
       "      <td>0.226089</td>\n",
       "      <td>1.343283</td>\n",
       "      <td>1.713799</td>\n",
       "      <td>0.244991</td>\n",
       "      <td>0.240538</td>\n",
       "      <td>0.312566</td>\n",
       "      <td>0.302067</td>\n",
       "      <td>0.134567</td>\n",
       "      <td>0.514507</td>\n",
       "      <td>34.328298</td>\n",
       "      <td>71.379935</td>\n",
       "    </tr>\n",
       "    <tr>\n",
       "      <th>8</th>\n",
       "      <td></td>\n",
       "      <td>9</td>\n",
       "      <td>0.400073</td>\n",
       "      <td>0.190844</td>\n",
       "      <td>1.187272</td>\n",
       "      <td>1.582378</td>\n",
       "      <td>0.216537</td>\n",
       "      <td>0.208448</td>\n",
       "      <td>0.288597</td>\n",
       "      <td>0.278699</td>\n",
       "      <td>0.118559</td>\n",
       "      <td>0.633067</td>\n",
       "      <td>18.727180</td>\n",
       "      <td>58.237759</td>\n",
       "    </tr>\n",
       "    <tr>\n",
       "      <th>9</th>\n",
       "      <td></td>\n",
       "      <td>10</td>\n",
       "      <td>0.500023</td>\n",
       "      <td>0.159417</td>\n",
       "      <td>0.943445</td>\n",
       "      <td>1.454661</td>\n",
       "      <td>0.172068</td>\n",
       "      <td>0.174157</td>\n",
       "      <td>0.265304</td>\n",
       "      <td>0.257803</td>\n",
       "      <td>0.094297</td>\n",
       "      <td>0.727364</td>\n",
       "      <td>-5.655509</td>\n",
       "      <td>45.466100</td>\n",
       "    </tr>\n",
       "    <tr>\n",
       "      <th>10</th>\n",
       "      <td></td>\n",
       "      <td>11</td>\n",
       "      <td>0.600611</td>\n",
       "      <td>0.140535</td>\n",
       "      <td>0.912589</td>\n",
       "      <td>1.363876</td>\n",
       "      <td>0.166440</td>\n",
       "      <td>0.150847</td>\n",
       "      <td>0.248747</td>\n",
       "      <td>0.239890</td>\n",
       "      <td>0.091796</td>\n",
       "      <td>0.819160</td>\n",
       "      <td>-8.741139</td>\n",
       "      <td>36.387644</td>\n",
       "    </tr>\n",
       "    <tr>\n",
       "      <th>11</th>\n",
       "      <td></td>\n",
       "      <td>12</td>\n",
       "      <td>0.700014</td>\n",
       "      <td>0.115145</td>\n",
       "      <td>0.780049</td>\n",
       "      <td>1.280973</td>\n",
       "      <td>0.142267</td>\n",
       "      <td>0.129020</td>\n",
       "      <td>0.233627</td>\n",
       "      <td>0.224146</td>\n",
       "      <td>0.077539</td>\n",
       "      <td>0.896698</td>\n",
       "      <td>-21.995073</td>\n",
       "      <td>28.097260</td>\n",
       "    </tr>\n",
       "    <tr>\n",
       "      <th>12</th>\n",
       "      <td></td>\n",
       "      <td>13</td>\n",
       "      <td>0.800009</td>\n",
       "      <td>0.088468</td>\n",
       "      <td>0.472758</td>\n",
       "      <td>1.179952</td>\n",
       "      <td>0.086223</td>\n",
       "      <td>0.101705</td>\n",
       "      <td>0.215202</td>\n",
       "      <td>0.208842</td>\n",
       "      <td>0.047274</td>\n",
       "      <td>0.943972</td>\n",
       "      <td>-52.724207</td>\n",
       "      <td>17.995153</td>\n",
       "    </tr>\n",
       "    <tr>\n",
       "      <th>13</th>\n",
       "      <td></td>\n",
       "      <td>14</td>\n",
       "      <td>0.901008</td>\n",
       "      <td>0.073497</td>\n",
       "      <td>0.356617</td>\n",
       "      <td>1.087659</td>\n",
       "      <td>0.065041</td>\n",
       "      <td>0.080118</td>\n",
       "      <td>0.198370</td>\n",
       "      <td>0.194413</td>\n",
       "      <td>0.036018</td>\n",
       "      <td>0.979990</td>\n",
       "      <td>-64.338267</td>\n",
       "      <td>8.765939</td>\n",
       "    </tr>\n",
       "    <tr>\n",
       "      <th>14</th>\n",
       "      <td></td>\n",
       "      <td>15</td>\n",
       "      <td>1.000000</td>\n",
       "      <td>0.041398</td>\n",
       "      <td>0.202138</td>\n",
       "      <td>1.000000</td>\n",
       "      <td>0.036866</td>\n",
       "      <td>0.060727</td>\n",
       "      <td>0.182382</td>\n",
       "      <td>0.181179</td>\n",
       "      <td>0.020010</td>\n",
       "      <td>1.000000</td>\n",
       "      <td>-79.786206</td>\n",
       "      <td>0.000000</td>\n",
       "    </tr>\n",
       "  </tbody>\n",
       "</table>\n",
       "</div>"
      ],
      "text/plain": [
       "      group  cumulative_data_fraction  lower_threshold      lift  \\\n",
       "0         1                  0.010036         0.738210  3.763326   \n",
       "1         2                  0.020163         0.335619  2.371023   \n",
       "2         3                  0.049678         0.325491  1.932182   \n",
       "3         4                  0.053009         0.322125  2.403503   \n",
       "4         5                  0.100132         0.285359  1.693199   \n",
       "5         6                  0.150084         0.278353  1.897766   \n",
       "6         7                  0.200036         0.257891  1.572292   \n",
       "7         8                  0.300214         0.226089  1.343283   \n",
       "8         9                  0.400073         0.190844  1.187272   \n",
       "9        10                  0.500023         0.159417  0.943445   \n",
       "10       11                  0.600611         0.140535  0.912589   \n",
       "11       12                  0.700014         0.115145  0.780049   \n",
       "12       13                  0.800009         0.088468  0.472758   \n",
       "13       14                  0.901008         0.073497  0.356617   \n",
       "14       15                  1.000000         0.041398  0.202138   \n",
       "\n",
       "    cumulative_lift  response_rate     score  cumulative_response_rate  \\\n",
       "0          3.763326       0.686364  0.882753                  0.686364   \n",
       "1          3.064025       0.432432  0.500988                  0.558824   \n",
       "2          2.391571       0.352396  0.325772                  0.436180   \n",
       "3          2.392321       0.438356  0.322179                  0.436317   \n",
       "4          2.063303       0.308809  0.305177                  0.376310   \n",
       "5          2.008208       0.346119  0.283627                  0.366261   \n",
       "6          1.899353       0.286758  0.268623                  0.346408   \n",
       "7          1.713799       0.244991  0.240538                  0.312566   \n",
       "8          1.582378       0.216537  0.208448                  0.288597   \n",
       "9          1.454661       0.172068  0.174157                  0.265304   \n",
       "10         1.363876       0.166440  0.150847                  0.248747   \n",
       "11         1.280973       0.142267  0.129020                  0.233627   \n",
       "12         1.179952       0.086223  0.101705                  0.215202   \n",
       "13         1.087659       0.065041  0.080118                  0.198370   \n",
       "14         1.000000       0.036866  0.060727                  0.182382   \n",
       "\n",
       "    cumulative_score  capture_rate  cumulative_capture_rate        gain  \\\n",
       "0           0.882753      0.037769                 0.037769  276.332598   \n",
       "1           0.691007      0.024012                 0.061781  137.102335   \n",
       "2           0.474012      0.057029                 0.118809   93.218247   \n",
       "3           0.464474      0.008004                 0.126813  140.350312   \n",
       "4           0.389507      0.079790                 0.206603   69.319873   \n",
       "5           0.354267      0.094797                 0.301401   89.776601   \n",
       "6           0.332880      0.078539                 0.379940   57.229163   \n",
       "7           0.302067      0.134567                 0.514507   34.328298   \n",
       "8           0.278699      0.118559                 0.633067   18.727180   \n",
       "9           0.257803      0.094297                 0.727364   -5.655509   \n",
       "10          0.239890      0.091796                 0.819160   -8.741139   \n",
       "11          0.224146      0.077539                 0.896698  -21.995073   \n",
       "12          0.208842      0.047274                 0.943972  -52.724207   \n",
       "13          0.194413      0.036018                 0.979990  -64.338267   \n",
       "14          0.181179      0.020010                 1.000000  -79.786206   \n",
       "\n",
       "    cumulative_gain  \n",
       "0        276.332598  \n",
       "1        206.402466  \n",
       "2        139.157113  \n",
       "3        139.232073  \n",
       "4        106.330341  \n",
       "5        100.820813  \n",
       "6         89.935327  \n",
       "7         71.379935  \n",
       "8         58.237759  \n",
       "9         45.466100  \n",
       "10        36.387644  \n",
       "11        28.097260  \n",
       "12        17.995153  \n",
       "13         8.765939  \n",
       "14         0.000000  "
      ]
     },
     "metadata": {},
     "output_type": "display_data"
    },
    {
     "name": "stdout",
     "output_type": "stream",
     "text": [
      "\n"
     ]
    },
    {
     "data": {
      "text/plain": []
     },
     "execution_count": 378,
     "metadata": {},
     "output_type": "execute_result"
    }
   ],
   "source": [
    "ensemble.model_performance(test)\n"
   ]
  },
  {
   "cell_type": "code",
   "execution_count": 379,
   "metadata": {},
   "outputs": [
    {
     "data": {
      "text/plain": [
       "0.7035467089712223"
      ]
     },
     "execution_count": 379,
     "metadata": {},
     "output_type": "execute_result"
    }
   ],
   "source": [
    "ensemble.auc(valid=True)"
   ]
  },
  {
   "cell_type": "code",
   "execution_count": null,
   "metadata": {},
   "outputs": [],
   "source": []
  },
  {
   "cell_type": "code",
   "execution_count": 380,
   "metadata": {},
   "outputs": [
    {
     "name": "stdout",
     "output_type": "stream",
     "text": [
      "deeplearning Model Build progress: |██████████████████████████████████████| 100%\n"
     ]
    }
   ],
   "source": [
    "from h2o.estimators.deeplearning import H2ODeepLearningEstimator\n",
    "dl = H2ODeepLearningEstimator(distribution='auto',\n",
    "                              model_id='dl',\n",
    "                              epochs=20,\n",
    "                              activation='rectifier_with_dropout',\n",
    "                              hidden_dropout_ratios=[0,0],\n",
    "                              rate=0.001,\n",
    "                              loss = \"cross_entropy\",\n",
    "                              balance_classes = True,\n",
    "                              hidden = [400,400],\n",
    "                              seed=1234)\n",
    "dl.train(x=cols, y=y, training_frame=train, validation_frame=valid)\n"
   ]
  },
  {
   "cell_type": "code",
   "execution_count": 381,
   "metadata": {},
   "outputs": [
    {
     "name": "stdout",
     "output_type": "stream",
     "text": [
      "deeplearning prediction progress: |███████████████████████████████████████| 100%\n"
     ]
    }
   ],
   "source": [
    "y_dl_predict =dl.predict(test)"
   ]
  },
  {
   "cell_type": "code",
   "execution_count": 382,
   "metadata": {},
   "outputs": [
    {
     "data": {
      "text/plain": [
       "0.7310567269432261"
      ]
     },
     "execution_count": 382,
     "metadata": {},
     "output_type": "execute_result"
    }
   ],
   "source": [
    "dl.auc(valid=True)"
   ]
  },
  {
   "cell_type": "code",
   "execution_count": null,
   "metadata": {},
   "outputs": [],
   "source": [
    "svmestimator = H2OSupportVectorMachineEstimator(seed = 1)"
   ]
  },
  {
   "cell_type": "code",
   "execution_count": 312,
   "metadata": {},
   "outputs": [
    {
     "name": "stdout",
     "output_type": "stream",
     "text": [
      "████████████████████████| 100%\n"
     ]
    }
   ],
   "source": [
    "svmestimator.train(x=cols, y=y, training_frame=train, validation_frame=valid)"
   ]
  },
  {
   "cell_type": "code",
   "execution_count": 320,
   "metadata": {},
   "outputs": [
    {
     "data": {
      "text/plain": [
       "'NaN'"
      ]
     },
     "execution_count": 320,
     "metadata": {},
     "output_type": "execute_result"
    }
   ],
   "source": [
    "svmestimator.auc(valid=True)"
   ]
  },
  {
   "cell_type": "code",
   "execution_count": null,
   "metadata": {},
   "outputs": [],
   "source": [
    "y_svm_predict =svmestimator.predict(test)`"
   ]
  },
  {
   "cell_type": "code",
   "execution_count": 316,
   "metadata": {},
   "outputs": [
    {
     "name": "stdout",
     "output_type": "stream",
     "text": [
      "              precision    recall  f1-score   support\n",
      "\n",
      "           1       0.82      0.99      0.90     18034\n",
      "           2       0.28      0.02      0.04      3939\n",
      "\n",
      "    accuracy                           0.82     21973\n",
      "   macro avg       0.55      0.50      0.47     21973\n",
      "weighted avg       0.72      0.82      0.74     21973\n",
      "\n"
     ]
    }
   ],
   "source": [
    "print( classification_report(y_true=test[\"Did_Police_Officer_Attend_Scene_of_Accident\"].as_data_frame().values, y_pred=y_svm_predict[\"predict\"].as_data_frame().values))"
   ]
  },
  {
   "cell_type": "code",
   "execution_count": 383,
   "metadata": {},
   "outputs": [],
   "source": [
    "nvmodel = H2ONaiveBayesEstimator(seed=1234)"
   ]
  },
  {
   "cell_type": "code",
   "execution_count": 384,
   "metadata": {},
   "outputs": [
    {
     "name": "stdout",
     "output_type": "stream",
     "text": [
      "naivebayes Model Build progress: |████████████████████████████████████████| 100%\n"
     ]
    }
   ],
   "source": [
    "nvmodel.train(x=cols, y=y, training_frame=train, validation_frame=valid)"
   ]
  },
  {
   "cell_type": "code",
   "execution_count": 385,
   "metadata": {},
   "outputs": [
    {
     "name": "stdout",
     "output_type": "stream",
     "text": [
      "naivebayes prediction progress: |█████████████████████████████████████████| 100%\n"
     ]
    }
   ],
   "source": [
    "y_nvb_predict =nvmodel.predict(test)"
   ]
  },
  {
   "cell_type": "code",
   "execution_count": 386,
   "metadata": {},
   "outputs": [
    {
     "name": "stdout",
     "output_type": "stream",
     "text": [
      "              precision    recall  f1-score   support\n",
      "\n",
      "           1       0.90      0.58      0.70     17923\n",
      "           2       0.27      0.71      0.39      3998\n",
      "\n",
      "    accuracy                           0.60     21921\n",
      "   macro avg       0.59      0.64      0.55     21921\n",
      "weighted avg       0.79      0.60      0.65     21921\n",
      "\n"
     ]
    }
   ],
   "source": [
    "print( classification_report(y_true=test[\"Did_Police_Officer_Attend_Scene_of_Accident\"].as_data_frame().values, y_pred=y_nvb_predict[\"predict\"].as_data_frame().values))"
   ]
  },
  {
   "cell_type": "code",
   "execution_count": 387,
   "metadata": {},
   "outputs": [
    {
     "data": {
      "text/plain": [
       "0.6954159299013973"
      ]
     },
     "execution_count": 387,
     "metadata": {},
     "output_type": "execute_result"
    }
   ],
   "source": [
    "nvmodel.auc(valid=True)"
   ]
  },
  {
   "cell_type": "code",
   "execution_count": null,
   "metadata": {},
   "outputs": [],
   "source": []
  }
 ],
 "metadata": {
  "kernelspec": {
   "display_name": "Python 3",
   "language": "python",
   "name": "python3"
  },
  "language_info": {
   "codemirror_mode": {
    "name": "ipython",
    "version": 3
   },
   "file_extension": ".py",
   "mimetype": "text/x-python",
   "name": "python",
   "nbconvert_exporter": "python",
   "pygments_lexer": "ipython3",
   "version": "3.7.4"
  }
 },
 "nbformat": 4,
 "nbformat_minor": 2
}
