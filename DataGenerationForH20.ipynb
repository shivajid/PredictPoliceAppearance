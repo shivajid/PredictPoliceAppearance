{
 "cells": [
  {
   "cell_type": "markdown",
   "metadata": {},
   "source": [
    "### TGAN\n",
    "\n",
    "This will generate some sample data for GB Road Dataset\n",
    "We will use the TGAN to get more sample data"
   ]
  },
  {
   "cell_type": "code",
   "execution_count": 1,
   "metadata": {},
   "outputs": [
    {
     "name": "stderr",
     "output_type": "stream",
     "text": [
      "/usr/local/lib/python3.7/site-packages/tensorflow/python/framework/dtypes.py:516: FutureWarning: Passing (type, 1) or '1type' as a synonym of type is deprecated; in a future version of numpy, it will be understood as (type, (1,)) / '(1,)type'.\n",
      "  _np_qint8 = np.dtype([(\"qint8\", np.int8, 1)])\n",
      "/usr/local/lib/python3.7/site-packages/tensorflow/python/framework/dtypes.py:517: FutureWarning: Passing (type, 1) or '1type' as a synonym of type is deprecated; in a future version of numpy, it will be understood as (type, (1,)) / '(1,)type'.\n",
      "  _np_quint8 = np.dtype([(\"quint8\", np.uint8, 1)])\n",
      "/usr/local/lib/python3.7/site-packages/tensorflow/python/framework/dtypes.py:518: FutureWarning: Passing (type, 1) or '1type' as a synonym of type is deprecated; in a future version of numpy, it will be understood as (type, (1,)) / '(1,)type'.\n",
      "  _np_qint16 = np.dtype([(\"qint16\", np.int16, 1)])\n",
      "/usr/local/lib/python3.7/site-packages/tensorflow/python/framework/dtypes.py:519: FutureWarning: Passing (type, 1) or '1type' as a synonym of type is deprecated; in a future version of numpy, it will be understood as (type, (1,)) / '(1,)type'.\n",
      "  _np_quint16 = np.dtype([(\"quint16\", np.uint16, 1)])\n",
      "/usr/local/lib/python3.7/site-packages/tensorflow/python/framework/dtypes.py:520: FutureWarning: Passing (type, 1) or '1type' as a synonym of type is deprecated; in a future version of numpy, it will be understood as (type, (1,)) / '(1,)type'.\n",
      "  _np_qint32 = np.dtype([(\"qint32\", np.int32, 1)])\n",
      "/usr/local/lib/python3.7/site-packages/tensorflow/python/framework/dtypes.py:525: FutureWarning: Passing (type, 1) or '1type' as a synonym of type is deprecated; in a future version of numpy, it will be understood as (type, (1,)) / '(1,)type'.\n",
      "  np_resource = np.dtype([(\"resource\", np.ubyte, 1)])\n",
      "/usr/local/lib/python3.7/site-packages/tensorboard/compat/tensorflow_stub/dtypes.py:541: FutureWarning: Passing (type, 1) or '1type' as a synonym of type is deprecated; in a future version of numpy, it will be understood as (type, (1,)) / '(1,)type'.\n",
      "  _np_qint8 = np.dtype([(\"qint8\", np.int8, 1)])\n",
      "/usr/local/lib/python3.7/site-packages/tensorboard/compat/tensorflow_stub/dtypes.py:542: FutureWarning: Passing (type, 1) or '1type' as a synonym of type is deprecated; in a future version of numpy, it will be understood as (type, (1,)) / '(1,)type'.\n",
      "  _np_quint8 = np.dtype([(\"quint8\", np.uint8, 1)])\n",
      "/usr/local/lib/python3.7/site-packages/tensorboard/compat/tensorflow_stub/dtypes.py:543: FutureWarning: Passing (type, 1) or '1type' as a synonym of type is deprecated; in a future version of numpy, it will be understood as (type, (1,)) / '(1,)type'.\n",
      "  _np_qint16 = np.dtype([(\"qint16\", np.int16, 1)])\n",
      "/usr/local/lib/python3.7/site-packages/tensorboard/compat/tensorflow_stub/dtypes.py:544: FutureWarning: Passing (type, 1) or '1type' as a synonym of type is deprecated; in a future version of numpy, it will be understood as (type, (1,)) / '(1,)type'.\n",
      "  _np_quint16 = np.dtype([(\"quint16\", np.uint16, 1)])\n",
      "/usr/local/lib/python3.7/site-packages/tensorboard/compat/tensorflow_stub/dtypes.py:545: FutureWarning: Passing (type, 1) or '1type' as a synonym of type is deprecated; in a future version of numpy, it will be understood as (type, (1,)) / '(1,)type'.\n",
      "  _np_qint32 = np.dtype([(\"qint32\", np.int32, 1)])\n",
      "/usr/local/lib/python3.7/site-packages/tensorboard/compat/tensorflow_stub/dtypes.py:550: FutureWarning: Passing (type, 1) or '1type' as a synonym of type is deprecated; in a future version of numpy, it will be understood as (type, (1,)) / '(1,)type'.\n",
      "  np_resource = np.dtype([(\"resource\", np.ubyte, 1)])\n",
      "WARNING: Logging before flag parsing goes to stderr.\n",
      "W1127 17:53:33.698483 140630553724672 deprecation_wrapper.py:119] From /usr/local/lib/python3.7/site-packages/tensorpack/callbacks/hooks.py:17: The name tf.train.SessionRunHook is deprecated. Please use tf.estimator.SessionRunHook instead.\n",
      "\n",
      "W1127 17:53:33.711030 140630553724672 deprecation_wrapper.py:119] From /usr/local/lib/python3.7/site-packages/tensorpack/tfutils/optimizer.py:18: The name tf.train.Optimizer is deprecated. Please use tf.compat.v1.train.Optimizer instead.\n",
      "\n",
      "W1127 17:53:33.712612 140630553724672 deprecation_wrapper.py:119] From /usr/local/lib/python3.7/site-packages/tensorpack/tfutils/sesscreate.py:20: The name tf.train.SessionCreator is deprecated. Please use tf.compat.v1.train.SessionCreator instead.\n",
      "\n"
     ]
    }
   ],
   "source": [
    "from tgan.model import TGANModel\n",
    "import pandas as pd"
   ]
  },
  {
   "cell_type": "code",
   "execution_count": 2,
   "metadata": {},
   "outputs": [],
   "source": [
    "road_safety = pd.read_csv(\"DfTRoadSafety_Accidents_2014.csv\")"
   ]
  },
  {
   "cell_type": "code",
   "execution_count": 3,
   "metadata": {},
   "outputs": [
    {
     "data": {
      "text/plain": [
       "Index(['Accident_Index', 'Location_Easting_OSGR', 'Location_Northing_OSGR',\n",
       "       'Longitude', 'Latitude', 'Police_Force', 'Accident_Severity',\n",
       "       'Number_of_Vehicles', 'Number_of_Casualties', 'Date', 'Day_of_Week',\n",
       "       'Time', 'Local_Authority_(District)', 'Local_Authority_(Highway)',\n",
       "       '1st_Road_Class', '1st_Road_Number', 'Road_Type', 'Speed_limit',\n",
       "       'Junction_Detail', 'Junction_Control', '2nd_Road_Class',\n",
       "       '2nd_Road_Number', 'Pedestrian_Crossing-Human_Control',\n",
       "       'Pedestrian_Crossing-Physical_Facilities', 'Light_Conditions',\n",
       "       'Weather_Conditions', 'Road_Surface_Conditions',\n",
       "       'Special_Conditions_at_Site', 'Carriageway_Hazards',\n",
       "       'Urban_or_Rural_Area', 'Did_Police_Officer_Attend_Scene_of_Accident',\n",
       "       'LSOA_of_Accident_Location'],\n",
       "      dtype='object')"
      ]
     },
     "execution_count": 3,
     "metadata": {},
     "output_type": "execute_result"
    }
   ],
   "source": [
    "road_safety.columns"
   ]
  },
  {
   "cell_type": "code",
   "execution_count": 48,
   "metadata": {},
   "outputs": [],
   "source": [
    "continuous_columns = [3,4]"
   ]
  },
  {
   "cell_type": "code",
   "execution_count": 49,
   "metadata": {},
   "outputs": [],
   "source": [
    "tgan = TGANModel(continuous_columns)"
   ]
  },
  {
   "cell_type": "code",
   "execution_count": 6,
   "metadata": {},
   "outputs": [
    {
     "name": "stderr",
     "output_type": "stream",
     "text": [
      "W1111 11:46:36.478125 140551210968832 deprecation_wrapper.py:119] From /usr/local/lib/python3.7/site-packages/tensorpack/graph_builder/model_desc.py:29: The name tf.get_default_graph is deprecated. Please use tf.compat.v1.get_default_graph instead.\n",
      "\n",
      "W1111 11:46:36.478984 140551210968832 deprecation_wrapper.py:119] From /usr/local/lib/python3.7/site-packages/tensorpack/graph_builder/model_desc.py:39: The name tf.placeholder is deprecated. Please use tf.compat.v1.placeholder instead.\n",
      "\n",
      "W1111 11:46:36.497592 140551210968832 deprecation_wrapper.py:119] From /usr/local/lib/python3.7/site-packages/tensorpack/input_source/input_source.py:219: The name tf.FIFOQueue is deprecated. Please use tf.queue.FIFOQueue instead.\n",
      "\n"
     ]
    },
    {
     "name": "stdout",
     "output_type": "stream",
     "text": [
      "\u001b[32m[1111 11:46:36 @input_source.py:222]\u001b[0m Setting up the queue 'QueueInput/input_queue' for CPU prefetching ...\n"
     ]
    },
    {
     "name": "stderr",
     "output_type": "stream",
     "text": [
      "W1111 11:46:36.504536 140551210968832 deprecation_wrapper.py:119] From /usr/local/lib/python3.7/site-packages/tensorpack/tfutils/summary.py:237: The name tf.get_variable_scope is deprecated. Please use tf.compat.v1.get_variable_scope instead.\n",
      "\n",
      "W1111 11:46:36.505224 140551210968832 deprecation_wrapper.py:119] From /usr/local/lib/python3.7/site-packages/tensorpack/tfutils/summary.py:27: The name tf.variable_scope is deprecated. Please use tf.compat.v1.variable_scope instead.\n",
      "\n",
      "W1111 11:46:36.522750 140551210968832 deprecation_wrapper.py:119] From /usr/local/lib/python3.7/site-packages/tensorpack/tfutils/summary.py:264: The name tf.summary.scalar is deprecated. Please use tf.compat.v1.summary.scalar instead.\n",
      "\n",
      "W1111 11:46:36.529715 140551210968832 deprecation.py:323] From /usr/local/lib/python3.7/site-packages/tgan/model.py:259: LSTMCell.__init__ (from tensorflow.python.ops.rnn_cell_impl) is deprecated and will be removed in a future version.\n",
      "Instructions for updating:\n",
      "This class is equivalent as tf.keras.layers.LSTMCell, and will be replaced by that in Tensorflow 2.0.\n",
      "W1111 11:46:36.540643 140551210968832 deprecation.py:506] From /usr/local/lib/python3.7/site-packages/tensorflow/python/ops/init_ops.py:1251: calling VarianceScaling.__init__ (from tensorflow.python.ops.init_ops) with dtype is deprecated and will be removed in a future version.\n",
      "Instructions for updating:\n",
      "Call initializer instance with the dtype argument instead of passing it to the constructor\n",
      "W1111 11:46:36.558011 140551210968832 deprecation.py:506] From /usr/local/lib/python3.7/site-packages/tensorflow/python/ops/rnn_cell_impl.py:961: calling Zeros.__init__ (from tensorflow.python.ops.init_ops) with dtype is deprecated and will be removed in a future version.\n",
      "Instructions for updating:\n",
      "Call initializer instance with the dtype argument instead of passing it to the constructor\n"
     ]
    },
    {
     "name": "stdout",
     "output_type": "stream",
     "text": [
      "\u001b[32m[1111 11:46:37 @registry.py:126]\u001b[0m gen/LSTM/00/FC input: [200, 100]\n"
     ]
    },
    {
     "name": "stderr",
     "output_type": "stream",
     "text": [
      "W1111 11:46:37.073206 140551210968832 deprecation_wrapper.py:119] From /usr/local/lib/python3.7/site-packages/tensorpack/models/fc.py:57: The name tf.layers.Dense is deprecated. Please use tf.compat.v1.layers.Dense instead.\n",
      "\n"
     ]
    },
    {
     "name": "stdout",
     "output_type": "stream",
     "text": [
      "\u001b[32m[1111 11:46:37 @registry.py:134]\u001b[0m gen/LSTM/00/FC output: [200, 100]\n",
      "\u001b[32m[1111 11:46:37 @registry.py:126]\u001b[0m gen/LSTM/00/FC2 input: [200, 100]\n",
      "\u001b[32m[1111 11:46:37 @registry.py:134]\u001b[0m gen/LSTM/00/FC2 output: [200, 146322]\n",
      "\u001b[32m[1111 11:46:37 @registry.py:126]\u001b[0m gen/LSTM/00/FC3 input: [200, 146322]\n",
      "\u001b[32m[1111 11:46:37 @registry.py:134]\u001b[0m gen/LSTM/00/FC3 output: [200, 100]\n",
      "\u001b[32m[1111 11:46:37 @registry.py:126]\u001b[0m gen/LSTM/01/FC input: [200, 100]\n",
      "\u001b[32m[1111 11:46:37 @registry.py:134]\u001b[0m gen/LSTM/01/FC output: [200, 100]\n",
      "\u001b[32m[1111 11:46:37 @registry.py:126]\u001b[0m gen/LSTM/01/FC2 input: [200, 100]\n",
      "\u001b[32m[1111 11:46:37 @registry.py:134]\u001b[0m gen/LSTM/01/FC2 output: [200, 92575]\n",
      "\u001b[32m[1111 11:46:37 @registry.py:126]\u001b[0m gen/LSTM/01/FC3 input: [200, 92575]\n",
      "\u001b[32m[1111 11:46:37 @registry.py:134]\u001b[0m gen/LSTM/01/FC3 output: [200, 100]\n",
      "\u001b[32m[1111 11:46:37 @registry.py:126]\u001b[0m gen/LSTM/02/FC input: [200, 100]\n",
      "\u001b[32m[1111 11:46:37 @registry.py:134]\u001b[0m gen/LSTM/02/FC output: [200, 100]\n",
      "\u001b[32m[1111 11:46:37 @registry.py:126]\u001b[0m gen/LSTM/02/FC2 input: [200, 100]\n",
      "\u001b[32m[1111 11:46:37 @registry.py:134]\u001b[0m gen/LSTM/02/FC2 output: [200, 96296]\n",
      "\u001b[32m[1111 11:46:37 @registry.py:126]\u001b[0m gen/LSTM/02/FC3 input: [200, 96296]\n",
      "\u001b[32m[1111 11:46:37 @registry.py:134]\u001b[0m gen/LSTM/02/FC3 output: [200, 100]\n",
      "\u001b[32m[1111 11:46:37 @registry.py:126]\u001b[0m gen/LSTM/03/FC input: [200, 100]\n",
      "\u001b[32m[1111 11:46:37 @registry.py:134]\u001b[0m gen/LSTM/03/FC output: [200, 100]\n",
      "\u001b[32m[1111 11:46:37 @registry.py:126]\u001b[0m gen/LSTM/03/FC2 input: [200, 100]\n",
      "\u001b[32m[1111 11:46:37 @registry.py:134]\u001b[0m gen/LSTM/03/FC2 output: [200, 1]\n",
      "\u001b[32m[1111 11:46:37 @registry.py:126]\u001b[0m gen/LSTM/04/FC input: [200, 100]\n",
      "\u001b[32m[1111 11:46:37 @registry.py:134]\u001b[0m gen/LSTM/04/FC output: [200, 100]\n",
      "\u001b[32m[1111 11:46:37 @registry.py:126]\u001b[0m gen/LSTM/04/FC2 input: [200, 100]\n",
      "\u001b[32m[1111 11:46:37 @registry.py:134]\u001b[0m gen/LSTM/04/FC2 output: [200, 5]\n",
      "\u001b[32m[1111 11:46:37 @registry.py:126]\u001b[0m gen/LSTM/04/FC3 input: [200, 5]\n",
      "\u001b[32m[1111 11:46:37 @registry.py:134]\u001b[0m gen/LSTM/04/FC3 output: [200, 100]\n",
      "\u001b[32m[1111 11:46:37 @registry.py:126]\u001b[0m gen/LSTM/05/FC input: [200, 100]\n",
      "\u001b[32m[1111 11:46:37 @registry.py:134]\u001b[0m gen/LSTM/05/FC output: [200, 100]\n",
      "\u001b[32m[1111 11:46:37 @registry.py:126]\u001b[0m gen/LSTM/05/FC2 input: [200, 100]\n",
      "\u001b[32m[1111 11:46:37 @registry.py:134]\u001b[0m gen/LSTM/05/FC2 output: [200, 1]\n",
      "\u001b[32m[1111 11:46:37 @registry.py:126]\u001b[0m gen/LSTM/06/FC input: [200, 100]\n",
      "\u001b[32m[1111 11:46:37 @registry.py:134]\u001b[0m gen/LSTM/06/FC output: [200, 100]\n",
      "\u001b[32m[1111 11:46:37 @registry.py:126]\u001b[0m gen/LSTM/06/FC2 input: [200, 100]\n",
      "\u001b[32m[1111 11:46:37 @registry.py:134]\u001b[0m gen/LSTM/06/FC2 output: [200, 5]\n",
      "\u001b[32m[1111 11:46:37 @registry.py:126]\u001b[0m gen/LSTM/06/FC3 input: [200, 5]\n",
      "\u001b[32m[1111 11:46:37 @registry.py:134]\u001b[0m gen/LSTM/06/FC3 output: [200, 100]\n",
      "\u001b[32m[1111 11:46:37 @registry.py:126]\u001b[0m gen/LSTM/07/FC input: [200, 100]\n",
      "\u001b[32m[1111 11:46:37 @registry.py:134]\u001b[0m gen/LSTM/07/FC output: [200, 100]\n",
      "\u001b[32m[1111 11:46:37 @registry.py:126]\u001b[0m gen/LSTM/07/FC2 input: [200, 100]\n",
      "\u001b[32m[1111 11:46:37 @registry.py:134]\u001b[0m gen/LSTM/07/FC2 output: [200, 51]\n",
      "\u001b[32m[1111 11:46:37 @registry.py:126]\u001b[0m gen/LSTM/07/FC3 input: [200, 51]\n",
      "\u001b[32m[1111 11:46:37 @registry.py:134]\u001b[0m gen/LSTM/07/FC3 output: [200, 100]\n",
      "\u001b[32m[1111 11:46:38 @registry.py:126]\u001b[0m gen/LSTM/08/FC input: [200, 100]\n",
      "\u001b[32m[1111 11:46:38 @registry.py:134]\u001b[0m gen/LSTM/08/FC output: [200, 100]\n",
      "\u001b[32m[1111 11:46:38 @registry.py:126]\u001b[0m gen/LSTM/08/FC2 input: [200, 100]\n",
      "\u001b[32m[1111 11:46:38 @registry.py:134]\u001b[0m gen/LSTM/08/FC2 output: [200, 3]\n",
      "\u001b[32m[1111 11:46:38 @registry.py:126]\u001b[0m gen/LSTM/08/FC3 input: [200, 3]\n",
      "\u001b[32m[1111 11:46:38 @registry.py:134]\u001b[0m gen/LSTM/08/FC3 output: [200, 100]\n",
      "\u001b[32m[1111 11:46:38 @registry.py:126]\u001b[0m gen/LSTM/09/FC input: [200, 100]\n",
      "\u001b[32m[1111 11:46:38 @registry.py:134]\u001b[0m gen/LSTM/09/FC output: [200, 100]\n",
      "\u001b[32m[1111 11:46:38 @registry.py:126]\u001b[0m gen/LSTM/09/FC2 input: [200, 100]\n",
      "\u001b[32m[1111 11:46:38 @registry.py:134]\u001b[0m gen/LSTM/09/FC2 output: [200, 14]\n",
      "\u001b[32m[1111 11:46:38 @registry.py:126]\u001b[0m gen/LSTM/09/FC3 input: [200, 14]\n",
      "\u001b[32m[1111 11:46:38 @registry.py:134]\u001b[0m gen/LSTM/09/FC3 output: [200, 100]\n",
      "\u001b[32m[1111 11:46:38 @registry.py:126]\u001b[0m gen/LSTM/10/FC input: [200, 100]\n",
      "\u001b[32m[1111 11:46:38 @registry.py:134]\u001b[0m gen/LSTM/10/FC output: [200, 100]\n",
      "\u001b[32m[1111 11:46:38 @registry.py:126]\u001b[0m gen/LSTM/10/FC2 input: [200, 100]\n",
      "\u001b[32m[1111 11:46:38 @registry.py:134]\u001b[0m gen/LSTM/10/FC2 output: [200, 26]\n",
      "\u001b[32m[1111 11:46:38 @registry.py:126]\u001b[0m gen/LSTM/10/FC3 input: [200, 26]\n",
      "\u001b[32m[1111 11:46:38 @registry.py:134]\u001b[0m gen/LSTM/10/FC3 output: [200, 100]\n",
      "\u001b[32m[1111 11:46:38 @registry.py:126]\u001b[0m gen/LSTM/11/FC input: [200, 100]\n",
      "\u001b[32m[1111 11:46:38 @registry.py:134]\u001b[0m gen/LSTM/11/FC output: [200, 100]\n",
      "\u001b[32m[1111 11:46:38 @registry.py:126]\u001b[0m gen/LSTM/11/FC2 input: [200, 100]\n",
      "\u001b[32m[1111 11:46:38 @registry.py:134]\u001b[0m gen/LSTM/11/FC2 output: [200, 365]\n",
      "\u001b[32m[1111 11:46:38 @registry.py:126]\u001b[0m gen/LSTM/11/FC3 input: [200, 365]\n",
      "\u001b[32m[1111 11:46:38 @registry.py:134]\u001b[0m gen/LSTM/11/FC3 output: [200, 100]\n",
      "\u001b[32m[1111 11:46:38 @registry.py:126]\u001b[0m gen/LSTM/12/FC input: [200, 100]\n",
      "\u001b[32m[1111 11:46:38 @registry.py:134]\u001b[0m gen/LSTM/12/FC output: [200, 100]\n",
      "\u001b[32m[1111 11:46:38 @registry.py:126]\u001b[0m gen/LSTM/12/FC2 input: [200, 100]\n",
      "\u001b[32m[1111 11:46:38 @registry.py:134]\u001b[0m gen/LSTM/12/FC2 output: [200, 7]\n",
      "\u001b[32m[1111 11:46:38 @registry.py:126]\u001b[0m gen/LSTM/12/FC3 input: [200, 7]\n",
      "\u001b[32m[1111 11:46:38 @registry.py:134]\u001b[0m gen/LSTM/12/FC3 output: [200, 100]\n",
      "\u001b[32m[1111 11:46:38 @registry.py:126]\u001b[0m gen/LSTM/13/FC input: [200, 100]\n",
      "\u001b[32m[1111 11:46:38 @registry.py:134]\u001b[0m gen/LSTM/13/FC output: [200, 100]\n",
      "\u001b[32m[1111 11:46:38 @registry.py:126]\u001b[0m gen/LSTM/13/FC2 input: [200, 100]\n",
      "\u001b[32m[1111 11:46:38 @registry.py:134]\u001b[0m gen/LSTM/13/FC2 output: [200, 1439]\n",
      "\u001b[32m[1111 11:46:38 @registry.py:126]\u001b[0m gen/LSTM/13/FC3 input: [200, 1439]\n",
      "\u001b[32m[1111 11:46:38 @registry.py:134]\u001b[0m gen/LSTM/13/FC3 output: [200, 100]\n",
      "\u001b[32m[1111 11:46:38 @registry.py:126]\u001b[0m gen/LSTM/14/FC input: [200, 100]\n",
      "\u001b[32m[1111 11:46:38 @registry.py:134]\u001b[0m gen/LSTM/14/FC output: [200, 100]\n",
      "\u001b[32m[1111 11:46:38 @registry.py:126]\u001b[0m gen/LSTM/14/FC2 input: [200, 100]\n",
      "\u001b[32m[1111 11:46:38 @registry.py:134]\u001b[0m gen/LSTM/14/FC2 output: [200, 380]\n",
      "\u001b[32m[1111 11:46:38 @registry.py:126]\u001b[0m gen/LSTM/14/FC3 input: [200, 380]\n",
      "\u001b[32m[1111 11:46:38 @registry.py:134]\u001b[0m gen/LSTM/14/FC3 output: [200, 100]\n",
      "\u001b[32m[1111 11:46:38 @registry.py:126]\u001b[0m gen/LSTM/15/FC input: [200, 100]\n",
      "\u001b[32m[1111 11:46:38 @registry.py:134]\u001b[0m gen/LSTM/15/FC output: [200, 100]\n",
      "\u001b[32m[1111 11:46:38 @registry.py:126]\u001b[0m gen/LSTM/15/FC2 input: [200, 100]\n",
      "\u001b[32m[1111 11:46:38 @registry.py:134]\u001b[0m gen/LSTM/15/FC2 output: [200, 207]\n",
      "\u001b[32m[1111 11:46:38 @registry.py:126]\u001b[0m gen/LSTM/15/FC3 input: [200, 207]\n",
      "\u001b[32m[1111 11:46:38 @registry.py:134]\u001b[0m gen/LSTM/15/FC3 output: [200, 100]\n",
      "\u001b[32m[1111 11:46:38 @registry.py:126]\u001b[0m gen/LSTM/16/FC input: [200, 100]\n",
      "\u001b[32m[1111 11:46:38 @registry.py:134]\u001b[0m gen/LSTM/16/FC output: [200, 100]\n",
      "\u001b[32m[1111 11:46:38 @registry.py:126]\u001b[0m gen/LSTM/16/FC2 input: [200, 100]\n",
      "\u001b[32m[1111 11:46:38 @registry.py:134]\u001b[0m gen/LSTM/16/FC2 output: [200, 6]\n",
      "\u001b[32m[1111 11:46:38 @registry.py:126]\u001b[0m gen/LSTM/16/FC3 input: [200, 6]\n",
      "\u001b[32m[1111 11:46:38 @registry.py:134]\u001b[0m gen/LSTM/16/FC3 output: [200, 100]\n",
      "\u001b[32m[1111 11:46:38 @registry.py:126]\u001b[0m gen/LSTM/17/FC input: [200, 100]\n",
      "\u001b[32m[1111 11:46:38 @registry.py:134]\u001b[0m gen/LSTM/17/FC output: [200, 100]\n",
      "\u001b[32m[1111 11:46:38 @registry.py:126]\u001b[0m gen/LSTM/17/FC2 input: [200, 100]\n",
      "\u001b[32m[1111 11:46:38 @registry.py:134]\u001b[0m gen/LSTM/17/FC2 output: [200, 4384]\n",
      "\u001b[32m[1111 11:46:38 @registry.py:126]\u001b[0m gen/LSTM/17/FC3 input: [200, 4384]\n",
      "\u001b[32m[1111 11:46:38 @registry.py:134]\u001b[0m gen/LSTM/17/FC3 output: [200, 100]\n",
      "\u001b[32m[1111 11:46:39 @registry.py:126]\u001b[0m gen/LSTM/18/FC input: [200, 100]\n",
      "\u001b[32m[1111 11:46:39 @registry.py:134]\u001b[0m gen/LSTM/18/FC output: [200, 100]\n",
      "\u001b[32m[1111 11:46:39 @registry.py:126]\u001b[0m gen/LSTM/18/FC2 input: [200, 100]\n",
      "\u001b[32m[1111 11:46:39 @registry.py:134]\u001b[0m gen/LSTM/18/FC2 output: [200, 6]\n",
      "\u001b[32m[1111 11:46:39 @registry.py:126]\u001b[0m gen/LSTM/18/FC3 input: [200, 6]\n"
     ]
    },
    {
     "name": "stdout",
     "output_type": "stream",
     "text": [
      "\u001b[32m[1111 11:46:39 @registry.py:134]\u001b[0m gen/LSTM/18/FC3 output: [200, 100]\n",
      "\u001b[32m[1111 11:46:39 @registry.py:126]\u001b[0m gen/LSTM/19/FC input: [200, 100]\n",
      "\u001b[32m[1111 11:46:39 @registry.py:134]\u001b[0m gen/LSTM/19/FC output: [200, 100]\n",
      "\u001b[32m[1111 11:46:39 @registry.py:126]\u001b[0m gen/LSTM/19/FC2 input: [200, 100]\n",
      "\u001b[32m[1111 11:46:39 @registry.py:134]\u001b[0m gen/LSTM/19/FC2 output: [200, 6]\n",
      "\u001b[32m[1111 11:46:39 @registry.py:126]\u001b[0m gen/LSTM/19/FC3 input: [200, 6]\n",
      "\u001b[32m[1111 11:46:39 @registry.py:134]\u001b[0m gen/LSTM/19/FC3 output: [200, 100]\n",
      "\u001b[32m[1111 11:46:39 @registry.py:126]\u001b[0m gen/LSTM/20/FC input: [200, 100]\n",
      "\u001b[32m[1111 11:46:39 @registry.py:134]\u001b[0m gen/LSTM/20/FC output: [200, 100]\n",
      "\u001b[32m[1111 11:46:39 @registry.py:126]\u001b[0m gen/LSTM/20/FC2 input: [200, 100]\n",
      "\u001b[32m[1111 11:46:39 @registry.py:134]\u001b[0m gen/LSTM/20/FC2 output: [200, 9]\n",
      "\u001b[32m[1111 11:46:39 @registry.py:126]\u001b[0m gen/LSTM/20/FC3 input: [200, 9]\n",
      "\u001b[32m[1111 11:46:39 @registry.py:134]\u001b[0m gen/LSTM/20/FC3 output: [200, 100]\n",
      "\u001b[32m[1111 11:46:39 @registry.py:126]\u001b[0m gen/LSTM/21/FC input: [200, 100]\n",
      "\u001b[32m[1111 11:46:39 @registry.py:134]\u001b[0m gen/LSTM/21/FC output: [200, 100]\n",
      "\u001b[32m[1111 11:46:39 @registry.py:126]\u001b[0m gen/LSTM/21/FC2 input: [200, 100]\n",
      "\u001b[32m[1111 11:46:39 @registry.py:134]\u001b[0m gen/LSTM/21/FC2 output: [200, 5]\n",
      "\u001b[32m[1111 11:46:39 @registry.py:126]\u001b[0m gen/LSTM/21/FC3 input: [200, 5]\n",
      "\u001b[32m[1111 11:46:39 @registry.py:134]\u001b[0m gen/LSTM/21/FC3 output: [200, 100]\n",
      "\u001b[32m[1111 11:46:39 @registry.py:126]\u001b[0m gen/LSTM/22/FC input: [200, 100]\n",
      "\u001b[32m[1111 11:46:39 @registry.py:134]\u001b[0m gen/LSTM/22/FC output: [200, 100]\n",
      "\u001b[32m[1111 11:46:39 @registry.py:126]\u001b[0m gen/LSTM/22/FC2 input: [200, 100]\n",
      "\u001b[32m[1111 11:46:39 @registry.py:134]\u001b[0m gen/LSTM/22/FC2 output: [200, 7]\n",
      "\u001b[32m[1111 11:46:39 @registry.py:126]\u001b[0m gen/LSTM/22/FC3 input: [200, 7]\n",
      "\u001b[32m[1111 11:46:39 @registry.py:134]\u001b[0m gen/LSTM/22/FC3 output: [200, 100]\n",
      "\u001b[32m[1111 11:46:39 @registry.py:126]\u001b[0m gen/LSTM/23/FC input: [200, 100]\n",
      "\u001b[32m[1111 11:46:39 @registry.py:134]\u001b[0m gen/LSTM/23/FC output: [200, 100]\n",
      "\u001b[32m[1111 11:46:39 @registry.py:126]\u001b[0m gen/LSTM/23/FC2 input: [200, 100]\n",
      "\u001b[32m[1111 11:46:39 @registry.py:134]\u001b[0m gen/LSTM/23/FC2 output: [200, 3869]\n",
      "\u001b[32m[1111 11:46:39 @registry.py:126]\u001b[0m gen/LSTM/23/FC3 input: [200, 3869]\n",
      "\u001b[32m[1111 11:46:39 @registry.py:134]\u001b[0m gen/LSTM/23/FC3 output: [200, 100]\n",
      "\u001b[32m[1111 11:46:39 @registry.py:126]\u001b[0m gen/LSTM/24/FC input: [200, 100]\n",
      "\u001b[32m[1111 11:46:39 @registry.py:134]\u001b[0m gen/LSTM/24/FC output: [200, 100]\n",
      "\u001b[32m[1111 11:46:39 @registry.py:126]\u001b[0m gen/LSTM/24/FC2 input: [200, 100]\n",
      "\u001b[32m[1111 11:46:39 @registry.py:134]\u001b[0m gen/LSTM/24/FC2 output: [200, 3]\n",
      "\u001b[32m[1111 11:46:39 @registry.py:126]\u001b[0m gen/LSTM/24/FC3 input: [200, 3]\n",
      "\u001b[32m[1111 11:46:39 @registry.py:134]\u001b[0m gen/LSTM/24/FC3 output: [200, 100]\n",
      "\u001b[32m[1111 11:46:39 @registry.py:126]\u001b[0m gen/LSTM/25/FC input: [200, 100]\n",
      "\u001b[32m[1111 11:46:39 @registry.py:134]\u001b[0m gen/LSTM/25/FC output: [200, 100]\n",
      "\u001b[32m[1111 11:46:39 @registry.py:126]\u001b[0m gen/LSTM/25/FC2 input: [200, 100]\n",
      "\u001b[32m[1111 11:46:39 @registry.py:134]\u001b[0m gen/LSTM/25/FC2 output: [200, 6]\n",
      "\u001b[32m[1111 11:46:39 @registry.py:126]\u001b[0m gen/LSTM/25/FC3 input: [200, 6]\n",
      "\u001b[32m[1111 11:46:39 @registry.py:134]\u001b[0m gen/LSTM/25/FC3 output: [200, 100]\n",
      "\u001b[32m[1111 11:46:39 @registry.py:126]\u001b[0m gen/LSTM/26/FC input: [200, 100]\n",
      "\u001b[32m[1111 11:46:39 @registry.py:134]\u001b[0m gen/LSTM/26/FC output: [200, 100]\n",
      "\u001b[32m[1111 11:46:39 @registry.py:126]\u001b[0m gen/LSTM/26/FC2 input: [200, 100]\n",
      "\u001b[32m[1111 11:46:39 @registry.py:134]\u001b[0m gen/LSTM/26/FC2 output: [200, 5]\n",
      "\u001b[32m[1111 11:46:39 @registry.py:126]\u001b[0m gen/LSTM/26/FC3 input: [200, 5]\n",
      "\u001b[32m[1111 11:46:39 @registry.py:134]\u001b[0m gen/LSTM/26/FC3 output: [200, 100]\n",
      "\u001b[32m[1111 11:46:39 @registry.py:126]\u001b[0m gen/LSTM/27/FC input: [200, 100]\n",
      "\u001b[32m[1111 11:46:39 @registry.py:134]\u001b[0m gen/LSTM/27/FC output: [200, 100]\n",
      "\u001b[32m[1111 11:46:39 @registry.py:126]\u001b[0m gen/LSTM/27/FC2 input: [200, 100]\n",
      "\u001b[32m[1111 11:46:39 @registry.py:134]\u001b[0m gen/LSTM/27/FC2 output: [200, 9]\n",
      "\u001b[32m[1111 11:46:39 @registry.py:126]\u001b[0m gen/LSTM/27/FC3 input: [200, 9]\n",
      "\u001b[32m[1111 11:46:39 @registry.py:134]\u001b[0m gen/LSTM/27/FC3 output: [200, 100]\n",
      "\u001b[32m[1111 11:46:39 @registry.py:126]\u001b[0m gen/LSTM/28/FC input: [200, 100]\n",
      "\u001b[32m[1111 11:46:39 @registry.py:134]\u001b[0m gen/LSTM/28/FC output: [200, 100]\n",
      "\u001b[32m[1111 11:46:39 @registry.py:126]\u001b[0m gen/LSTM/28/FC2 input: [200, 100]\n",
      "\u001b[32m[1111 11:46:40 @registry.py:134]\u001b[0m gen/LSTM/28/FC2 output: [200, 6]\n",
      "\u001b[32m[1111 11:46:40 @registry.py:126]\u001b[0m gen/LSTM/28/FC3 input: [200, 6]\n",
      "\u001b[32m[1111 11:46:40 @registry.py:134]\u001b[0m gen/LSTM/28/FC3 output: [200, 100]\n",
      "\u001b[32m[1111 11:46:40 @registry.py:126]\u001b[0m gen/LSTM/29/FC input: [200, 100]\n",
      "\u001b[32m[1111 11:46:40 @registry.py:134]\u001b[0m gen/LSTM/29/FC output: [200, 100]\n",
      "\u001b[32m[1111 11:46:40 @registry.py:126]\u001b[0m gen/LSTM/29/FC2 input: [200, 100]\n",
      "\u001b[32m[1111 11:46:40 @registry.py:134]\u001b[0m gen/LSTM/29/FC2 output: [200, 9]\n",
      "\u001b[32m[1111 11:46:40 @registry.py:126]\u001b[0m gen/LSTM/29/FC3 input: [200, 9]\n",
      "\u001b[32m[1111 11:46:40 @registry.py:134]\u001b[0m gen/LSTM/29/FC3 output: [200, 100]\n",
      "\u001b[32m[1111 11:46:40 @registry.py:126]\u001b[0m gen/LSTM/30/FC input: [200, 100]\n",
      "\u001b[32m[1111 11:46:40 @registry.py:134]\u001b[0m gen/LSTM/30/FC output: [200, 100]\n",
      "\u001b[32m[1111 11:46:40 @registry.py:126]\u001b[0m gen/LSTM/30/FC2 input: [200, 100]\n",
      "\u001b[32m[1111 11:46:40 @registry.py:134]\u001b[0m gen/LSTM/30/FC2 output: [200, 7]\n",
      "\u001b[32m[1111 11:46:40 @registry.py:126]\u001b[0m gen/LSTM/30/FC3 input: [200, 7]\n",
      "\u001b[32m[1111 11:46:40 @registry.py:134]\u001b[0m gen/LSTM/30/FC3 output: [200, 100]\n",
      "\u001b[32m[1111 11:46:40 @registry.py:126]\u001b[0m gen/LSTM/31/FC input: [200, 100]\n",
      "\u001b[32m[1111 11:46:40 @registry.py:134]\u001b[0m gen/LSTM/31/FC output: [200, 100]\n",
      "\u001b[32m[1111 11:46:40 @registry.py:126]\u001b[0m gen/LSTM/31/FC2 input: [200, 100]\n",
      "\u001b[32m[1111 11:46:40 @registry.py:134]\u001b[0m gen/LSTM/31/FC2 output: [200, 2]\n",
      "\u001b[32m[1111 11:46:40 @registry.py:126]\u001b[0m gen/LSTM/31/FC3 input: [200, 2]\n",
      "\u001b[32m[1111 11:46:40 @registry.py:134]\u001b[0m gen/LSTM/31/FC3 output: [200, 100]\n",
      "\u001b[32m[1111 11:46:40 @registry.py:126]\u001b[0m gen/LSTM/32/FC input: [200, 100]\n",
      "\u001b[32m[1111 11:46:40 @registry.py:134]\u001b[0m gen/LSTM/32/FC output: [200, 100]\n",
      "\u001b[32m[1111 11:46:40 @registry.py:126]\u001b[0m gen/LSTM/32/FC2 input: [200, 100]\n",
      "\u001b[32m[1111 11:46:40 @registry.py:134]\u001b[0m gen/LSTM/32/FC2 output: [200, 2]\n",
      "\u001b[32m[1111 11:46:40 @registry.py:126]\u001b[0m gen/LSTM/32/FC3 input: [200, 2]\n",
      "\u001b[32m[1111 11:46:40 @registry.py:134]\u001b[0m gen/LSTM/32/FC3 output: [200, 100]\n",
      "\u001b[32m[1111 11:46:40 @registry.py:126]\u001b[0m gen/LSTM/33/FC input: [200, 100]\n",
      "\u001b[32m[1111 11:46:40 @registry.py:134]\u001b[0m gen/LSTM/33/FC output: [200, 100]\n",
      "\u001b[32m[1111 11:46:40 @registry.py:126]\u001b[0m gen/LSTM/33/FC2 input: [200, 100]\n",
      "\u001b[32m[1111 11:46:40 @registry.py:134]\u001b[0m gen/LSTM/33/FC2 output: [200, 29123]\n",
      "\u001b[32m[1111 11:46:40 @registry.py:126]\u001b[0m gen/LSTM/33/FC3 input: [200, 29123]\n",
      "\u001b[32m[1111 11:46:40 @registry.py:134]\u001b[0m gen/LSTM/33/FC3 output: [200, 100]\n",
      "\u001b[32m[1111 11:46:41 @registry.py:126]\u001b[0m discrim/dis_fc0/fc input: [200, 375161]\n",
      "\u001b[32m[1111 11:46:41 @registry.py:134]\u001b[0m discrim/dis_fc0/fc output: [200, 100]\n",
      "\u001b[32m[1111 11:46:41 @registry.py:126]\u001b[0m discrim/dis_fc0/fc_diversity input: [200, 100]\n",
      "\u001b[32m[1111 11:46:41 @registry.py:134]\u001b[0m discrim/dis_fc0/fc_diversity output: [200, 100]\n"
     ]
    },
    {
     "name": "stderr",
     "output_type": "stream",
     "text": [
      "W1111 11:46:41.383708 140551210968832 deprecation_wrapper.py:119] From /usr/local/lib/python3.7/site-packages/tensorpack/models/batch_norm.py:204: The name tf.layers.BatchNormalization is deprecated. Please use tf.compat.v1.layers.BatchNormalization instead.\n",
      "\n"
     ]
    },
    {
     "name": "stdout",
     "output_type": "stream",
     "text": [
      "\u001b[32m[1111 11:46:41 @registry.py:126]\u001b[0m discrim/dis_fc_top input: [200, 110]\n",
      "\u001b[32m[1111 11:46:41 @registry.py:134]\u001b[0m discrim/dis_fc_top output: [200, 1]\n"
     ]
    },
    {
     "name": "stderr",
     "output_type": "stream",
     "text": [
      "W1111 11:46:41.522200 140551210968832 deprecation_wrapper.py:119] From /usr/local/lib/python3.7/site-packages/tgan/model.py:118: The name tf.summary.histogram is deprecated. Please use tf.compat.v1.summary.histogram instead.\n",
      "\n",
      "W1111 11:46:41.528134 140551210968832 deprecation.py:323] From /usr/local/lib/python3.7/site-packages/tensorflow/python/ops/nn_impl.py:180: add_dispatch_support.<locals>.wrapper (from tensorflow.python.ops.array_ops) is deprecated and will be removed in a future version.\n",
      "Instructions for updating:\n",
      "Use tf.where in 2.0, which has the same broadcast rule as np.where\n",
      "W1111 11:46:41.804174 140551210968832 lazy_loader.py:50] \n",
      "The TensorFlow contrib module will not be included in TensorFlow 2.0.\n",
      "For more information, please see:\n",
      "  * https://github.com/tensorflow/community/blob/master/rfcs/20180907-contrib-sunset.md\n",
      "  * https://github.com/tensorflow/addons\n",
      "  * https://github.com/tensorflow/io (for I/O related ops)\n",
      "If you depend on functionality not listed there, please file an issue.\n",
      "\n",
      "W1111 11:46:42.256954 140551210968832 deprecation_wrapper.py:119] From /usr/local/lib/python3.7/site-packages/tgan/model.py:551: The name tf.train.AdamOptimizer is deprecated. Please use tf.compat.v1.train.AdamOptimizer instead.\n",
      "\n"
     ]
    },
    {
     "name": "stdout",
     "output_type": "stream",
     "text": [
      "\u001b[32m[1111 11:46:51 @logger.py:83]\u001b[0m Existing log file 'output/logs/log.log' backuped to 'output/logs/log.log.1111-114651'\n",
      "\u001b[32m[1111 11:46:51 @logger.py:90]\u001b[0m Argv: /usr/local/lib/python3.7/site-packages/ipykernel_launcher.py -f /home/sdutta/.local/share/jupyter/runtime/kernel-8fe7595f-4433-460e-8d2e-f81f712f2818.json\n"
     ]
    },
    {
     "name": "stderr",
     "output_type": "stream",
     "text": [
      "W1111 11:46:51.784866 140551210968832 deprecation_wrapper.py:119] From /usr/local/lib/python3.7/site-packages/tensorpack/callbacks/saver.py:43: The name tf.gfile.IsDirectory is deprecated. Please use tf.io.gfile.isdir instead.\n",
      "\n"
     ]
    },
    {
     "name": "stdout",
     "output_type": "stream",
     "text": [
      "\u001b[32m[1111 11:46:51 @model_utils.py:67]\u001b[0m \u001b[36mList of Trainable Variables: \n",
      "\u001b[0mname                              shape            #elements\n",
      "--------------------------------  -------------  -----------\n",
      "gen/LSTM/go:0                     [1, 100]               100\n",
      "gen/LSTM/lstm_cell/kernel:0       [500, 400]          200000\n",
      "gen/LSTM/lstm_cell/bias:0         [400]                  400\n",
      "gen/LSTM/00/FC/W:0                [100, 100]           10000\n",
      "gen/LSTM/00/FC/b:0                [100]                  100\n",
      "gen/LSTM/00/FC2/W:0               [100, 146322]     14632200\n",
      "gen/LSTM/00/FC2/b:0               [146322]            146322\n",
      "gen/LSTM/00/FC3/W:0               [146322, 100]     14632200\n",
      "gen/LSTM/00/FC3/b:0               [100]                  100\n",
      "gen/LSTM/00/attw:0                [1, 1, 1]                1\n",
      "gen/LSTM/01/FC/W:0                [100, 100]           10000\n",
      "gen/LSTM/01/FC/b:0                [100]                  100\n",
      "gen/LSTM/01/FC2/W:0               [100, 92575]       9257500\n",
      "gen/LSTM/01/FC2/b:0               [92575]              92575\n",
      "gen/LSTM/01/FC3/W:0               [92575, 100]       9257500\n",
      "gen/LSTM/01/FC3/b:0               [100]                  100\n",
      "gen/LSTM/01/attw:0                [2, 1, 1]                2\n",
      "gen/LSTM/02/FC/W:0                [100, 100]           10000\n",
      "gen/LSTM/02/FC/b:0                [100]                  100\n",
      "gen/LSTM/02/FC2/W:0               [100, 96296]       9629600\n",
      "gen/LSTM/02/FC2/b:0               [96296]              96296\n",
      "gen/LSTM/02/FC3/W:0               [96296, 100]       9629600\n",
      "gen/LSTM/02/FC3/b:0               [100]                  100\n",
      "gen/LSTM/02/attw:0                [3, 1, 1]                3\n",
      "gen/LSTM/03/FC/W:0                [100, 100]           10000\n",
      "gen/LSTM/03/FC/b:0                [100]                  100\n",
      "gen/LSTM/03/FC2/W:0               [100, 1]               100\n",
      "gen/LSTM/03/FC2/b:0               [1]                      1\n",
      "gen/LSTM/03/attw:0                [4, 1, 1]                4\n",
      "gen/LSTM/04/FC/W:0                [100, 100]           10000\n",
      "gen/LSTM/04/FC/b:0                [100]                  100\n",
      "gen/LSTM/04/FC2/W:0               [100, 5]               500\n",
      "gen/LSTM/04/FC2/b:0               [5]                      5\n",
      "gen/LSTM/04/FC3/W:0               [5, 100]               500\n",
      "gen/LSTM/04/FC3/b:0               [100]                  100\n",
      "gen/LSTM/04/attw:0                [5, 1, 1]                5\n",
      "gen/LSTM/05/FC/W:0                [100, 100]           10000\n",
      "gen/LSTM/05/FC/b:0                [100]                  100\n",
      "gen/LSTM/05/FC2/W:0               [100, 1]               100\n",
      "gen/LSTM/05/FC2/b:0               [1]                      1\n",
      "gen/LSTM/05/attw:0                [6, 1, 1]                6\n",
      "gen/LSTM/06/FC/W:0                [100, 100]           10000\n",
      "gen/LSTM/06/FC/b:0                [100]                  100\n",
      "gen/LSTM/06/FC2/W:0               [100, 5]               500\n",
      "gen/LSTM/06/FC2/b:0               [5]                      5\n",
      "gen/LSTM/06/FC3/W:0               [5, 100]               500\n",
      "gen/LSTM/06/FC3/b:0               [100]                  100\n",
      "gen/LSTM/06/attw:0                [7, 1, 1]                7\n",
      "gen/LSTM/07/FC/W:0                [100, 100]           10000\n",
      "gen/LSTM/07/FC/b:0                [100]                  100\n",
      "gen/LSTM/07/FC2/W:0               [100, 51]             5100\n",
      "gen/LSTM/07/FC2/b:0               [51]                    51\n",
      "gen/LSTM/07/FC3/W:0               [51, 100]             5100\n",
      "gen/LSTM/07/FC3/b:0               [100]                  100\n",
      "gen/LSTM/07/attw:0                [8, 1, 1]                8\n",
      "gen/LSTM/08/FC/W:0                [100, 100]           10000\n",
      "gen/LSTM/08/FC/b:0                [100]                  100\n",
      "gen/LSTM/08/FC2/W:0               [100, 3]               300\n",
      "gen/LSTM/08/FC2/b:0               [3]                      3\n",
      "gen/LSTM/08/FC3/W:0               [3, 100]               300\n",
      "gen/LSTM/08/FC3/b:0               [100]                  100\n",
      "gen/LSTM/08/attw:0                [9, 1, 1]                9\n",
      "gen/LSTM/09/FC/W:0                [100, 100]           10000\n",
      "gen/LSTM/09/FC/b:0                [100]                  100\n",
      "gen/LSTM/09/FC2/W:0               [100, 14]             1400\n",
      "gen/LSTM/09/FC2/b:0               [14]                    14\n",
      "gen/LSTM/09/FC3/W:0               [14, 100]             1400\n",
      "gen/LSTM/09/FC3/b:0               [100]                  100\n",
      "gen/LSTM/09/attw:0                [10, 1, 1]              10\n",
      "gen/LSTM/10/FC/W:0                [100, 100]           10000\n",
      "gen/LSTM/10/FC/b:0                [100]                  100\n",
      "gen/LSTM/10/FC2/W:0               [100, 26]             2600\n",
      "gen/LSTM/10/FC2/b:0               [26]                    26\n",
      "gen/LSTM/10/FC3/W:0               [26, 100]             2600\n",
      "gen/LSTM/10/FC3/b:0               [100]                  100\n",
      "gen/LSTM/10/attw:0                [11, 1, 1]              11\n",
      "gen/LSTM/11/FC/W:0                [100, 100]           10000\n",
      "gen/LSTM/11/FC/b:0                [100]                  100\n",
      "gen/LSTM/11/FC2/W:0               [100, 365]           36500\n",
      "gen/LSTM/11/FC2/b:0               [365]                  365\n",
      "gen/LSTM/11/FC3/W:0               [365, 100]           36500\n",
      "gen/LSTM/11/FC3/b:0               [100]                  100\n",
      "gen/LSTM/11/attw:0                [12, 1, 1]              12\n",
      "gen/LSTM/12/FC/W:0                [100, 100]           10000\n",
      "gen/LSTM/12/FC/b:0                [100]                  100\n",
      "gen/LSTM/12/FC2/W:0               [100, 7]               700\n",
      "gen/LSTM/12/FC2/b:0               [7]                      7\n",
      "gen/LSTM/12/FC3/W:0               [7, 100]               700\n",
      "gen/LSTM/12/FC3/b:0               [100]                  100\n",
      "gen/LSTM/12/attw:0                [13, 1, 1]              13\n",
      "gen/LSTM/13/FC/W:0                [100, 100]           10000\n",
      "gen/LSTM/13/FC/b:0                [100]                  100\n",
      "gen/LSTM/13/FC2/W:0               [100, 1439]         143900\n",
      "gen/LSTM/13/FC2/b:0               [1439]                1439\n",
      "gen/LSTM/13/FC3/W:0               [1439, 100]         143900\n",
      "gen/LSTM/13/FC3/b:0               [100]                  100\n",
      "gen/LSTM/13/attw:0                [14, 1, 1]              14\n",
      "gen/LSTM/14/FC/W:0                [100, 100]           10000\n",
      "gen/LSTM/14/FC/b:0                [100]                  100\n",
      "gen/LSTM/14/FC2/W:0               [100, 380]           38000\n",
      "gen/LSTM/14/FC2/b:0               [380]                  380\n",
      "gen/LSTM/14/FC3/W:0               [380, 100]           38000\n",
      "gen/LSTM/14/FC3/b:0               [100]                  100\n",
      "gen/LSTM/14/attw:0                [15, 1, 1]              15\n",
      "gen/LSTM/15/FC/W:0                [100, 100]           10000\n",
      "gen/LSTM/15/FC/b:0                [100]                  100\n",
      "gen/LSTM/15/FC2/W:0               [100, 207]           20700\n",
      "gen/LSTM/15/FC2/b:0               [207]                  207\n",
      "gen/LSTM/15/FC3/W:0               [207, 100]           20700\n",
      "gen/LSTM/15/FC3/b:0               [100]                  100\n",
      "gen/LSTM/15/attw:0                [16, 1, 1]              16\n",
      "gen/LSTM/16/FC/W:0                [100, 100]           10000\n",
      "gen/LSTM/16/FC/b:0                [100]                  100\n",
      "gen/LSTM/16/FC2/W:0               [100, 6]               600\n",
      "gen/LSTM/16/FC2/b:0               [6]                      6\n",
      "gen/LSTM/16/FC3/W:0               [6, 100]               600\n",
      "gen/LSTM/16/FC3/b:0               [100]                  100\n",
      "gen/LSTM/16/attw:0                [17, 1, 1]              17\n",
      "gen/LSTM/17/FC/W:0                [100, 100]           10000\n",
      "gen/LSTM/17/FC/b:0                [100]                  100\n",
      "gen/LSTM/17/FC2/W:0               [100, 4384]         438400\n",
      "gen/LSTM/17/FC2/b:0               [4384]                4384\n",
      "gen/LSTM/17/FC3/W:0               [4384, 100]         438400\n",
      "gen/LSTM/17/FC3/b:0               [100]                  100\n",
      "gen/LSTM/17/attw:0                [18, 1, 1]              18\n",
      "gen/LSTM/18/FC/W:0                [100, 100]           10000\n",
      "gen/LSTM/18/FC/b:0                [100]                  100\n",
      "gen/LSTM/18/FC2/W:0               [100, 6]               600\n",
      "gen/LSTM/18/FC2/b:0               [6]                      6\n",
      "gen/LSTM/18/FC3/W:0               [6, 100]               600\n",
      "gen/LSTM/18/FC3/b:0               [100]                  100\n",
      "gen/LSTM/18/attw:0                [19, 1, 1]              19\n",
      "gen/LSTM/19/FC/W:0                [100, 100]           10000\n",
      "gen/LSTM/19/FC/b:0                [100]                  100\n",
      "gen/LSTM/19/FC2/W:0               [100, 6]               600\n",
      "gen/LSTM/19/FC2/b:0               [6]                      6\n",
      "gen/LSTM/19/FC3/W:0               [6, 100]               600\n",
      "gen/LSTM/19/FC3/b:0               [100]                  100\n",
      "gen/LSTM/19/attw:0                [20, 1, 1]              20\n",
      "gen/LSTM/20/FC/W:0                [100, 100]           10000\n",
      "gen/LSTM/20/FC/b:0                [100]                  100\n",
      "gen/LSTM/20/FC2/W:0               [100, 9]               900\n",
      "gen/LSTM/20/FC2/b:0               [9]                      9\n",
      "gen/LSTM/20/FC3/W:0               [9, 100]               900\n",
      "gen/LSTM/20/FC3/b:0               [100]                  100\n",
      "gen/LSTM/20/attw:0                [21, 1, 1]              21\n",
      "gen/LSTM/21/FC/W:0                [100, 100]           10000\n",
      "gen/LSTM/21/FC/b:0                [100]                  100\n",
      "gen/LSTM/21/FC2/W:0               [100, 5]               500\n",
      "gen/LSTM/21/FC2/b:0               [5]                      5\n",
      "gen/LSTM/21/FC3/W:0               [5, 100]               500\n",
      "gen/LSTM/21/FC3/b:0               [100]                  100\n",
      "gen/LSTM/21/attw:0                [22, 1, 1]              22\n",
      "gen/LSTM/22/FC/W:0                [100, 100]           10000\n",
      "gen/LSTM/22/FC/b:0                [100]                  100\n",
      "gen/LSTM/22/FC2/W:0               [100, 7]               700\n",
      "gen/LSTM/22/FC2/b:0               [7]                      7\n",
      "gen/LSTM/22/FC3/W:0               [7, 100]               700\n",
      "gen/LSTM/22/FC3/b:0               [100]                  100\n",
      "gen/LSTM/22/attw:0                [23, 1, 1]              23\n",
      "gen/LSTM/23/FC/W:0                [100, 100]           10000\n",
      "gen/LSTM/23/FC/b:0                [100]                  100\n",
      "gen/LSTM/23/FC2/W:0               [100, 3869]         386900\n",
      "gen/LSTM/23/FC2/b:0               [3869]                3869\n",
      "gen/LSTM/23/FC3/W:0               [3869, 100]         386900\n",
      "gen/LSTM/23/FC3/b:0               [100]                  100\n",
      "gen/LSTM/23/attw:0                [24, 1, 1]              24\n",
      "gen/LSTM/24/FC/W:0                [100, 100]           10000\n",
      "gen/LSTM/24/FC/b:0                [100]                  100\n",
      "gen/LSTM/24/FC2/W:0               [100, 3]               300\n",
      "gen/LSTM/24/FC2/b:0               [3]                      3\n",
      "gen/LSTM/24/FC3/W:0               [3, 100]               300\n",
      "gen/LSTM/24/FC3/b:0               [100]                  100\n",
      "gen/LSTM/24/attw:0                [25, 1, 1]              25\n",
      "gen/LSTM/25/FC/W:0                [100, 100]           10000\n",
      "gen/LSTM/25/FC/b:0                [100]                  100\n",
      "gen/LSTM/25/FC2/W:0               [100, 6]               600\n",
      "gen/LSTM/25/FC2/b:0               [6]                      6\n",
      "gen/LSTM/25/FC3/W:0               [6, 100]               600\n",
      "gen/LSTM/25/FC3/b:0               [100]                  100\n",
      "gen/LSTM/25/attw:0                [26, 1, 1]              26\n",
      "gen/LSTM/26/FC/W:0                [100, 100]           10000\n",
      "gen/LSTM/26/FC/b:0                [100]                  100\n",
      "gen/LSTM/26/FC2/W:0               [100, 5]               500\n",
      "gen/LSTM/26/FC2/b:0               [5]                      5\n",
      "gen/LSTM/26/FC3/W:0               [5, 100]               500\n",
      "gen/LSTM/26/FC3/b:0               [100]                  100\n",
      "gen/LSTM/26/attw:0                [27, 1, 1]              27\n",
      "gen/LSTM/27/FC/W:0                [100, 100]           10000\n",
      "gen/LSTM/27/FC/b:0                [100]                  100\n",
      "gen/LSTM/27/FC2/W:0               [100, 9]               900\n",
      "gen/LSTM/27/FC2/b:0               [9]                      9\n",
      "gen/LSTM/27/FC3/W:0               [9, 100]               900\n",
      "gen/LSTM/27/FC3/b:0               [100]                  100\n",
      "gen/LSTM/27/attw:0                [28, 1, 1]              28\n",
      "gen/LSTM/28/FC/W:0                [100, 100]           10000\n",
      "gen/LSTM/28/FC/b:0                [100]                  100\n",
      "gen/LSTM/28/FC2/W:0               [100, 6]               600\n",
      "gen/LSTM/28/FC2/b:0               [6]                      6\n",
      "gen/LSTM/28/FC3/W:0               [6, 100]               600\n",
      "gen/LSTM/28/FC3/b:0               [100]                  100\n",
      "gen/LSTM/28/attw:0                [29, 1, 1]              29\n",
      "gen/LSTM/29/FC/W:0                [100, 100]           10000\n",
      "gen/LSTM/29/FC/b:0                [100]                  100\n",
      "gen/LSTM/29/FC2/W:0               [100, 9]               900\n",
      "gen/LSTM/29/FC2/b:0               [9]                      9\n",
      "gen/LSTM/29/FC3/W:0               [9, 100]               900\n",
      "gen/LSTM/29/FC3/b:0               [100]                  100\n",
      "gen/LSTM/29/attw:0                [30, 1, 1]              30\n",
      "gen/LSTM/30/FC/W:0                [100, 100]           10000\n",
      "gen/LSTM/30/FC/b:0                [100]                  100\n",
      "gen/LSTM/30/FC2/W:0               [100, 7]               700\n",
      "gen/LSTM/30/FC2/b:0               [7]                      7\n",
      "gen/LSTM/30/FC3/W:0               [7, 100]               700\n",
      "gen/LSTM/30/FC3/b:0               [100]                  100\n",
      "gen/LSTM/30/attw:0                [31, 1, 1]              31\n",
      "gen/LSTM/31/FC/W:0                [100, 100]           10000\n",
      "gen/LSTM/31/FC/b:0                [100]                  100\n",
      "gen/LSTM/31/FC2/W:0               [100, 2]               200\n",
      "gen/LSTM/31/FC2/b:0               [2]                      2\n",
      "gen/LSTM/31/FC3/W:0               [2, 100]               200\n",
      "gen/LSTM/31/FC3/b:0               [100]                  100\n",
      "gen/LSTM/31/attw:0                [32, 1, 1]              32\n",
      "gen/LSTM/32/FC/W:0                [100, 100]           10000\n",
      "gen/LSTM/32/FC/b:0                [100]                  100\n",
      "gen/LSTM/32/FC2/W:0               [100, 2]               200\n",
      "gen/LSTM/32/FC2/b:0               [2]                      2\n",
      "gen/LSTM/32/FC3/W:0               [2, 100]               200\n",
      "gen/LSTM/32/FC3/b:0               [100]                  100\n",
      "gen/LSTM/32/attw:0                [33, 1, 1]              33\n",
      "gen/LSTM/33/FC/W:0                [100, 100]           10000\n",
      "gen/LSTM/33/FC/b:0                [100]                  100\n",
      "gen/LSTM/33/FC2/W:0               [100, 29123]       2912300\n",
      "gen/LSTM/33/FC2/b:0               [29123]              29123\n",
      "gen/LSTM/33/FC3/W:0               [29123, 100]       2912300\n",
      "gen/LSTM/33/FC3/b:0               [100]                  100\n",
      "gen/LSTM/33/attw:0                [34, 1, 1]              34\n",
      "discrim/dis_fc0/fc/W:0            [375161, 100]     37516100\n",
      "discrim/dis_fc0/fc/b:0            [100]                  100\n",
      "discrim/dis_fc0/fc_diversity/W:0  [100, 100]           10000\n",
      "discrim/dis_fc0/fc_diversity/b:0  [100]                  100\n",
      "discrim/dis_fc0/bn/beta:0         [110]                  110\n",
      "discrim/dis_fc_top/W:0            [110, 1]               110\n",
      "discrim/dis_fc_top/b:0            [1]                      1\u001b[36m\n",
      "Number of trainable variables: 244\n",
      "Number of parameters (elements): 113481377\n",
      "Storage space needed for all trainable variables: 432.90MB\u001b[0m\n"
     ]
    },
    {
     "name": "stdout",
     "output_type": "stream",
     "text": [
      "\u001b[32m[1111 11:46:51 @base.py:209]\u001b[0m Setup callbacks graph ...\n"
     ]
    },
    {
     "name": "stderr",
     "output_type": "stream",
     "text": [
      "W1111 11:46:51.813834 140551210968832 deprecation_wrapper.py:119] From /usr/local/lib/python3.7/site-packages/tensorpack/callbacks/graph.py:54: The name tf.train.SessionRunArgs is deprecated. Please use tf.estimator.SessionRunArgs instead.\n",
      "\n"
     ]
    },
    {
     "name": "stdout",
     "output_type": "stream",
     "text": [
      "\u001b[32m[1111 11:46:52 @summary.py:46]\u001b[0m [MovingAverageSummary] 6 operations in collection 'MOVING_SUMMARY_OPS' will be run with session hooks.\n",
      "\u001b[32m[1111 11:46:52 @summary.py:93]\u001b[0m Summarizing collection 'summaries' of size 9.\n"
     ]
    },
    {
     "name": "stderr",
     "output_type": "stream",
     "text": [
      "W1111 11:46:52.364045 140551210968832 deprecation_wrapper.py:119] From /usr/local/lib/python3.7/site-packages/tensorpack/callbacks/summary.py:94: The name tf.summary.merge_all is deprecated. Please use tf.compat.v1.summary.merge_all instead.\n",
      "\n"
     ]
    },
    {
     "name": "stdout",
     "output_type": "stream",
     "text": [
      "\u001b[32m[1111 11:46:52 @graph.py:98]\u001b[0m Applying collection UPDATE_OPS of 4 ops.\n"
     ]
    },
    {
     "name": "stderr",
     "output_type": "stream",
     "text": [
      "W1111 11:46:52.368070 140551210968832 deprecation_wrapper.py:119] From /usr/local/lib/python3.7/site-packages/tensorpack/callbacks/monitor.py:261: The name tf.summary.FileWriter is deprecated. Please use tf.compat.v1.summary.FileWriter instead.\n",
      "\n"
     ]
    },
    {
     "name": "stdout",
     "output_type": "stream",
     "text": [
      "\u001b[32m[1111 11:46:54 @base.py:230]\u001b[0m Creating the session ...\n",
      "\u001b[32m[1111 11:47:01 @base.py:236]\u001b[0m Initializing the session ...\n",
      "\u001b[32m[1111 11:47:01 @base.py:243]\u001b[0m Graph Finalized.\n",
      "\u001b[32m[1111 11:47:01 @concurrency.py:38]\u001b[0m Starting EnqueueThread QueueInput/input_queue ...\n"
     ]
    },
    {
     "name": "stderr",
     "output_type": "stream",
     "text": [
      "W1111 11:47:02.667874 140551210968832 deprecation_wrapper.py:119] From /usr/local/lib/python3.7/site-packages/tensorpack/callbacks/monitor.py:309: The name tf.gfile.Exists is deprecated. Please use tf.io.gfile.exists instead.\n",
      "\n"
     ]
    },
    {
     "name": "stdout",
     "output_type": "stream",
     "text": [
      "\u001b[32m[1111 11:47:02 @base.py:275]\u001b[0m Start Epoch 1 ...\n"
     ]
    },
    {
     "name": "stderr",
     "output_type": "stream",
     "text": [
      "100%|##########|10000/10000[29:42<00:00, 0.68it/s]"
     ]
    },
    {
     "name": "stdout",
     "output_type": "stream",
     "text": [
      "\u001b[32m[1111 12:16:45 @base.py:285]\u001b[0m Epoch 1 (global_step 10000) finished, time:29 minutes 42 seconds.\n"
     ]
    },
    {
     "name": "stderr",
     "output_type": "stream",
     "text": [
      "\n"
     ]
    },
    {
     "name": "stdout",
     "output_type": "stream",
     "text": [
      "\u001b[32m[1111 12:16:48 @saver.py:79]\u001b[0m Model saved to output/model/model-10000.\n",
      "\u001b[32m[1111 12:16:48 @monitor.py:467]\u001b[0m GAN_loss/discrim/accuracy_fake: 0.875\n",
      "\u001b[32m[1111 12:16:48 @monitor.py:467]\u001b[0m GAN_loss/discrim/accuracy_real: 0.24\n",
      "\u001b[32m[1111 12:16:48 @monitor.py:467]\u001b[0m GAN_loss/discrim/loss: 0.63903\n",
      "\u001b[32m[1111 12:16:48 @monitor.py:467]\u001b[0m GAN_loss/gen/final-g-loss: 1.0687\n",
      "\u001b[32m[1111 12:16:48 @monitor.py:467]\u001b[0m GAN_loss/gen/klloss: 0.10162\n",
      "\u001b[32m[1111 12:16:48 @monitor.py:467]\u001b[0m GAN_loss/gen/loss: 0.96705\n",
      "\u001b[32m[1111 12:16:48 @monitor.py:467]\u001b[0m QueueInput/queue_size: 50\n",
      "\u001b[32m[1111 12:16:48 @base.py:275]\u001b[0m Start Epoch 2 ...\n"
     ]
    },
    {
     "name": "stderr",
     "output_type": "stream",
     "text": [
      "100%|##########|10000/10000[29:33<00:00, 5.64it/s]"
     ]
    },
    {
     "name": "stdout",
     "output_type": "stream",
     "text": [
      "\u001b[32m[1111 12:46:21 @base.py:285]\u001b[0m Epoch 2 (global_step 20000) finished, time:29 minutes 33 seconds.\n"
     ]
    },
    {
     "name": "stderr",
     "output_type": "stream",
     "text": [
      "\n"
     ]
    },
    {
     "name": "stdout",
     "output_type": "stream",
     "text": [
      "\u001b[32m[1111 12:46:23 @saver.py:79]\u001b[0m Model saved to output/model/model-20000.\n",
      "\u001b[32m[1111 12:46:23 @monitor.py:467]\u001b[0m GAN_loss/discrim/accuracy_fake: 0.87\n",
      "\u001b[32m[1111 12:46:23 @monitor.py:467]\u001b[0m GAN_loss/discrim/accuracy_real: 0.22\n",
      "\u001b[32m[1111 12:46:23 @monitor.py:467]\u001b[0m GAN_loss/discrim/loss: 0.6365\n",
      "\u001b[32m[1111 12:46:23 @monitor.py:467]\u001b[0m GAN_loss/gen/final-g-loss: 1.0621\n",
      "\u001b[32m[1111 12:46:23 @monitor.py:467]\u001b[0m GAN_loss/gen/klloss: 0.090082\n",
      "\u001b[32m[1111 12:46:23 @monitor.py:467]\u001b[0m GAN_loss/gen/loss: 0.97206\n",
      "\u001b[32m[1111 12:46:23 @monitor.py:467]\u001b[0m QueueInput/queue_size: 50\n",
      "\u001b[32m[1111 12:46:23 @base.py:275]\u001b[0m Start Epoch 3 ...\n"
     ]
    },
    {
     "name": "stderr",
     "output_type": "stream",
     "text": [
      "100%|##########|10000/10000[29:45<00:00, 5.60it/s] "
     ]
    },
    {
     "name": "stdout",
     "output_type": "stream",
     "text": [
      "\u001b[32m[1111 13:16:09 @base.py:285]\u001b[0m Epoch 3 (global_step 30000) finished, time:29 minutes 45 seconds.\n"
     ]
    },
    {
     "name": "stderr",
     "output_type": "stream",
     "text": [
      "\n"
     ]
    },
    {
     "name": "stdout",
     "output_type": "stream",
     "text": [
      "\u001b[32m[1111 13:16:10 @saver.py:79]\u001b[0m Model saved to output/model/model-30000.\n",
      "\u001b[32m[1111 13:16:10 @monitor.py:467]\u001b[0m GAN_loss/discrim/accuracy_fake: 0.91\n",
      "\u001b[32m[1111 13:16:10 @monitor.py:467]\u001b[0m GAN_loss/discrim/accuracy_real: 0.195\n",
      "\u001b[32m[1111 13:16:10 @monitor.py:467]\u001b[0m GAN_loss/discrim/loss: 0.65481\n",
      "\u001b[32m[1111 13:16:10 @monitor.py:467]\u001b[0m GAN_loss/gen/final-g-loss: 1.1225\n",
      "\u001b[32m[1111 13:16:10 @monitor.py:467]\u001b[0m GAN_loss/gen/klloss: 0.15071\n",
      "\u001b[32m[1111 13:16:10 @monitor.py:467]\u001b[0m GAN_loss/gen/loss: 0.97184\n",
      "\u001b[32m[1111 13:16:10 @monitor.py:467]\u001b[0m QueueInput/queue_size: 50\n",
      "\u001b[32m[1111 13:16:10 @base.py:275]\u001b[0m Start Epoch 4 ...\n"
     ]
    },
    {
     "name": "stderr",
     "output_type": "stream",
     "text": [
      "100%|##########|10000/10000[29:49<00:00, 5.59it/s] "
     ]
    },
    {
     "name": "stdout",
     "output_type": "stream",
     "text": [
      "\u001b[32m[1111 13:45:59 @base.py:285]\u001b[0m Epoch 4 (global_step 40000) finished, time:29 minutes 49 seconds.\n"
     ]
    },
    {
     "name": "stderr",
     "output_type": "stream",
     "text": [
      "\n"
     ]
    },
    {
     "name": "stdout",
     "output_type": "stream",
     "text": [
      "\u001b[32m[1111 13:46:01 @saver.py:79]\u001b[0m Model saved to output/model/model-40000.\n",
      "\u001b[32m[1111 13:46:01 @monitor.py:467]\u001b[0m GAN_loss/discrim/accuracy_fake: 0.88\n",
      "\u001b[32m[1111 13:46:01 @monitor.py:467]\u001b[0m GAN_loss/discrim/accuracy_real: 0.21\n",
      "\u001b[32m[1111 13:46:01 @monitor.py:467]\u001b[0m GAN_loss/discrim/loss: 0.64024\n",
      "\u001b[32m[1111 13:46:01 @monitor.py:467]\u001b[0m GAN_loss/gen/final-g-loss: 1.1127\n",
      "\u001b[32m[1111 13:46:01 @monitor.py:467]\u001b[0m GAN_loss/gen/klloss: 0.15719\n",
      "\u001b[32m[1111 13:46:01 @monitor.py:467]\u001b[0m GAN_loss/gen/loss: 0.9555\n",
      "\u001b[32m[1111 13:46:01 @monitor.py:467]\u001b[0m QueueInput/queue_size: 50\n",
      "\u001b[32m[1111 13:46:01 @base.py:275]\u001b[0m Start Epoch 5 ...\n"
     ]
    },
    {
     "name": "stderr",
     "output_type": "stream",
     "text": [
      "100%|##########|10000/10000[29:46<00:00, 5.60it/s] "
     ]
    },
    {
     "name": "stdout",
     "output_type": "stream",
     "text": [
      "\u001b[32m[1111 14:15:47 @base.py:285]\u001b[0m Epoch 5 (global_step 50000) finished, time:29 minutes 46 seconds.\n"
     ]
    },
    {
     "name": "stderr",
     "output_type": "stream",
     "text": [
      "\n"
     ]
    },
    {
     "name": "stdout",
     "output_type": "stream",
     "text": [
      "\u001b[32m[1111 14:15:48 @saver.py:79]\u001b[0m Model saved to output/model/model-50000.\n",
      "\u001b[32m[1111 14:15:48 @monitor.py:467]\u001b[0m GAN_loss/discrim/accuracy_fake: 0.915\n",
      "\u001b[32m[1111 14:15:48 @monitor.py:467]\u001b[0m GAN_loss/discrim/accuracy_real: 0.13\n",
      "\u001b[32m[1111 14:15:48 @monitor.py:467]\u001b[0m GAN_loss/discrim/loss: 0.63815\n",
      "\u001b[32m[1111 14:15:48 @monitor.py:467]\u001b[0m GAN_loss/gen/final-g-loss: 1.1296\n",
      "\u001b[32m[1111 14:15:48 @monitor.py:467]\u001b[0m GAN_loss/gen/klloss: 0.13419\n",
      "\u001b[32m[1111 14:15:48 @monitor.py:467]\u001b[0m GAN_loss/gen/loss: 0.99538\n",
      "\u001b[32m[1111 14:15:48 @monitor.py:467]\u001b[0m QueueInput/queue_size: 50\n",
      "\u001b[32m[1111 14:15:48 @base.py:289]\u001b[0m Training has finished!\n",
      "\u001b[32m[1111 14:15:49 @input_source.py:178]\u001b[0m EnqueueThread QueueInput/input_queue Exited.\n",
      "\u001b[32m[1111 14:15:53 @collection.py:146]\u001b[0m New collections created in tower : tf.GraphKeys.REGULARIZATION_LOSSES\n",
      "\u001b[32m[1111 14:15:53 @collection.py:165]\u001b[0m These collections were modified but restored in : (tf.GraphKeys.SUMMARIES: 0->2)\n",
      "\u001b[32m[1111 14:15:53 @sessinit.py:87]\u001b[0m \u001b[5m\u001b[31mWRN\u001b[0m The following variables are in the checkpoint, but not found in the graph: global_step, optimize/beta1_power, optimize/beta2_power\n",
      "\u001b[32m[1111 14:15:55 @sessinit.py:114]\u001b[0m Restoring checkpoint from output/model/model-50000 ...\n"
     ]
    },
    {
     "name": "stderr",
     "output_type": "stream",
     "text": [
      "W1111 14:15:55.391279 140551210968832 deprecation.py:323] From /usr/local/lib/python3.7/site-packages/tensorflow/python/training/saver.py:1276: checkpoint_exists (from tensorflow.python.training.checkpoint_management) is deprecated and will be removed in a future version.\n",
      "Instructions for updating:\n",
      "Use standard file APIs to check for files with this prefix.\n"
     ]
    }
   ],
   "source": [
    "tgan.fit(road_safety)"
   ]
  },
  {
   "cell_type": "code",
   "execution_count": 12,
   "metadata": {},
   "outputs": [
    {
     "name": "stdout",
     "output_type": "stream",
     "text": [
      "\u001b[32m[1111 14:32:50 @model.py:813]\u001b[0m Model saved successfully.\n"
     ]
    }
   ],
   "source": [
    "tgan.save(\"models/tgan/tganTrafficGB.h5\")"
   ]
  },
  {
   "cell_type": "code",
   "execution_count": 50,
   "metadata": {},
   "outputs": [
    {
     "name": "stdout",
     "output_type": "stream",
     "text": [
      "\u001b[32m[1127 18:12:36 @registry.py:126]\u001b[0m gen/LSTM/01/FC3 input: [200, 92575]\n",
      "\u001b[32m[1127 18:12:36 @registry.py:134]\u001b[0m gen/LSTM/01/FC3 output: [200, 100]\n",
      "\u001b[32m[1127 18:12:38 @registry.py:126]\u001b[0m gen/LSTM/27/FC input: [200, 100]\n",
      "\u001b[32m[1127 18:12:38 @registry.py:134]\u001b[0m gen/LSTM/27/FC output: [200, 100]\n",
      "\u001b[32m[1127 18:12:38 @registry.py:126]\u001b[0m gen/LSTM/27/FC2 input: [200, 100]\n",
      "\u001b[32m[1127 18:12:38 @registry.py:134]\u001b[0m gen/LSTM/27/FC2 output: [200, 9]\n",
      "\u001b[32m[1127 18:12:38 @registry.py:126]\u001b[0m gen/LSTM/27/FC3 input: [200, 9]\n",
      "\u001b[32m[1127 18:12:38 @registry.py:134]\u001b[0m gen/LSTM/27/FC3 output: [200, 100]\n",
      "\u001b[32m[1127 18:12:38 @registry.py:126]\u001b[0m gen/LSTM/28/FC input: [200, 100]\n",
      "\u001b[32m[1127 18:12:38 @registry.py:134]\u001b[0m gen/LSTM/28/FC output: [200, 100]\n",
      "\u001b[32m[1127 18:12:38 @registry.py:126]\u001b[0m gen/LSTM/28/FC2 input: [200, 100]\n",
      "\u001b[32m[1127 18:12:38 @registry.py:134]\u001b[0m gen/LSTM/28/FC2 output: [200, 6]\n",
      "\u001b[32m[1127 18:12:38 @registry.py:126]\u001b[0m gen/LSTM/28/FC3 input: [200, 6]\n",
      "\u001b[32m[1127 18:12:38 @registry.py:134]\u001b[0m gen/LSTM/28/FC3 output: [200, 100]\n",
      "\u001b[32m[1127 18:12:38 @registry.py:126]\u001b[0m gen/LSTM/29/FC input: [200, 100]\n",
      "\u001b[32m[1127 18:12:38 @registry.py:134]\u001b[0m gen/LSTM/29/FC output: [200, 100]\n",
      "\u001b[32m[1127 18:12:38 @registry.py:126]\u001b[0m gen/LSTM/29/FC2 input: [200, 100]\n",
      "\u001b[32m[1127 18:12:38 @registry.py:134]\u001b[0m gen/LSTM/29/FC2 output: [200, 9]\n",
      "\u001b[32m[1127 18:12:38 @registry.py:126]\u001b[0m gen/LSTM/29/FC3 input: [200, 9]\n",
      "\u001b[32m[1127 18:12:38 @registry.py:134]\u001b[0m gen/LSTM/29/FC3 output: [200, 100]\n",
      "\u001b[32m[1127 18:12:38 @registry.py:126]\u001b[0m gen/LSTM/30/FC input: [200, 100]\n",
      "\u001b[32m[1127 18:12:38 @registry.py:134]\u001b[0m gen/LSTM/30/FC output: [200, 100]\n",
      "\u001b[32m[1127 18:12:38 @registry.py:126]\u001b[0m gen/LSTM/30/FC2 input: [200, 100]\n",
      "\u001b[32m[1127 18:12:38 @registry.py:134]\u001b[0m gen/LSTM/30/FC2 output: [200, 7]\n",
      "\u001b[32m[1127 18:12:38 @registry.py:126]\u001b[0m gen/LSTM/30/FC3 input: [200, 7]\n",
      "\u001b[32m[1127 18:12:38 @registry.py:134]\u001b[0m gen/LSTM/30/FC3 output: [200, 100]\n",
      "\u001b[32m[1127 18:12:38 @registry.py:126]\u001b[0m gen/LSTM/31/FC input: [200, 100]\n",
      "\u001b[32m[1127 18:12:38 @registry.py:134]\u001b[0m gen/LSTM/31/FC output: [200, 100]\n",
      "\u001b[32m[1127 18:12:38 @registry.py:126]\u001b[0m gen/LSTM/31/FC2 input: [200, 100]\n",
      "\u001b[32m[1127 18:12:38 @registry.py:134]\u001b[0m gen/LSTM/31/FC2 output: [200, 2]\n",
      "\u001b[32m[1127 18:12:38 @registry.py:126]\u001b[0m gen/LSTM/31/FC3 input: [200, 2]\n",
      "\u001b[32m[1127 18:12:38 @registry.py:134]\u001b[0m gen/LSTM/31/FC3 output: [200, 100]\n",
      "\u001b[32m[1127 18:12:38 @registry.py:126]\u001b[0m gen/LSTM/32/FC input: [200, 100]\n",
      "\u001b[32m[1127 18:12:38 @registry.py:134]\u001b[0m gen/LSTM/32/FC output: [200, 100]\n",
      "\u001b[32m[1127 18:12:38 @registry.py:126]\u001b[0m gen/LSTM/32/FC2 input: [200, 100]\n",
      "\u001b[32m[1127 18:12:38 @registry.py:134]\u001b[0m gen/LSTM/32/FC2 output: [200, 2]\n",
      "\u001b[32m[1127 18:12:38 @registry.py:126]\u001b[0m gen/LSTM/32/FC3 input: [200, 2]\n",
      "\u001b[32m[1127 18:12:38 @registry.py:134]\u001b[0m gen/LSTM/32/FC3 output: [200, 100]\n",
      "\u001b[32m[1127 18:12:38 @registry.py:126]\u001b[0m gen/LSTM/33/FC input: [200, 100]\n",
      "\u001b[32m[1127 18:12:38 @registry.py:134]\u001b[0m gen/LSTM/33/FC output: [200, 100]\n",
      "\u001b[32m[1127 18:12:38 @registry.py:126]\u001b[0m gen/LSTM/33/FC2 input: [200, 100]\n",
      "\u001b[32m[1127 18:12:39 @registry.py:134]\u001b[0m gen/LSTM/33/FC2 output: [200, 29123]\n",
      "\u001b[32m[1127 18:12:39 @registry.py:126]\u001b[0m gen/LSTM/33/FC3 input: [200, 29123]\n",
      "\u001b[32m[1127 18:12:39 @registry.py:134]\u001b[0m gen/LSTM/33/FC3 output: [200, 100]\n",
      "\u001b[32m[1127 18:12:39 @collection.py:146]\u001b[0m New collections created in tower : tf.GraphKeys.REGULARIZATION_LOSSES\n",
      "\u001b[32m[1127 18:12:39 @collection.py:165]\u001b[0m These collections were modified but restored in : (tf.GraphKeys.SUMMARIES: 0->2)\n",
      "\u001b[32m[1127 18:12:39 @sessinit.py:87]\u001b[0m \u001b[5m\u001b[31mWRN\u001b[0m The following variables are in the checkpoint, but not found in the graph: global_step, optimize/beta1_power, optimize/beta2_power\n",
      "\u001b[32m[1127 18:12:42 @sessinit.py:114]\u001b[0m Restoring checkpoint from output/model/model-50000 ...\n"
     ]
    },
    {
     "data": {
      "text/plain": [
       "<tgan.model.TGANModel at 0x7fe449d73b50>"
      ]
     },
     "execution_count": 50,
     "metadata": {},
     "output_type": "execute_result"
    }
   ],
   "source": [
    "tgan.load(\"models/tgan/tganTrafficGB.h5\")"
   ]
  },
  {
   "cell_type": "code",
   "execution_count": 17,
   "metadata": {},
   "outputs": [
    {
     "name": "stderr",
     "output_type": "stream",
     "text": [
      "?|999/?[00:58<00:00,17.17it/s]                \n"
     ]
    }
   ],
   "source": [
    "samples = tgan.sample(200000)"
   ]
  },
  {
   "cell_type": "code",
   "execution_count": 18,
   "metadata": {},
   "outputs": [
    {
     "data": {
      "text/plain": [
       "1    168148\n",
       "2     31852\n",
       "Name: Did_Police_Officer_Attend_Scene_of_Accident, dtype: int64"
      ]
     },
     "execution_count": 18,
     "metadata": {},
     "output_type": "execute_result"
    }
   ],
   "source": [
    "samples[\"Did_Police_Officer_Attend_Scene_of_Accident\"].value_counts()"
   ]
  },
  {
   "cell_type": "code",
   "execution_count": null,
   "metadata": {},
   "outputs": [],
   "source": [
    "samples.to_pickle(\"SampleSynthData.pkl\")"
   ]
  },
  {
   "cell_type": "code",
   "execution_count": null,
   "metadata": {},
   "outputs": [],
   "source": []
  }
 ],
 "metadata": {
  "kernelspec": {
   "display_name": "Python 3",
   "language": "python",
   "name": "python3"
  },
  "language_info": {
   "codemirror_mode": {
    "name": "ipython",
    "version": 3
   },
   "file_extension": ".py",
   "mimetype": "text/x-python",
   "name": "python",
   "nbconvert_exporter": "python",
   "pygments_lexer": "ipython3",
   "version": "3.7.4"
  }
 },
 "nbformat": 4,
 "nbformat_minor": 2
}
